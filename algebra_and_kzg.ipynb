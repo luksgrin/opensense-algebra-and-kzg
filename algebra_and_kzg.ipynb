{
 "cells": [
  {
   "cell_type": "markdown",
   "id": "3b3a94a3",
   "metadata": {},
   "source": [
    "# A quick insight on Algebra and KZG Commitments\n",
    "\n",
    "_(These contents do not attempt to be exhaustive. The main objective is to give the bare minimum background to understand KZG commitments)_\n",
    " \n",
    "_**Disclaimer**: lack of formalism ahead!_\n",
    "\n",
    "## Contents\n",
    "\n",
    "1. [Preliminaries](#1.-Preliminaries)\n",
    "    - 1.1 [Number Sets](#1.1-Number-Sets)\n",
    "    - 1.2 [Prime Numbers](#1.2-Prime-Numbers)\n",
    "    - 1.3 [Coprime Integers](#1.3-Coprime-Integers)\n",
    "    - 1.4 [Modular aritmethic](#1.4-Modular-aritmethic)\n",
    "    - 1.5 [Basic Algebraic Structures](#1.5-Basic-Algebraic-Structures)\n",
    "        - 1.5.1 [Abelian Groups](#1.5.1-Abelian-Groups)\n",
    "            - [Finite Groups, Cyclic Groups and Generators](#Finite-Groups,-Cyclic-Groups-and-Generators)\n",
    "            - [The Exponential Map](#The-Exponential-Map)\n",
    "            - [Pairings](#Pairings)\n",
    "        - 1.5.2 [Rings](#1.5.2-Rings)\n",
    "        - 1.5.3 [Fields & Galois Fields](#1.5.3-Fields-&-Galois-Fields)\n",
    "    - 1.6 [Polynomials](#1.6-Polynomials)\n",
    "2. [KZG Commitments](#2.-KZG-Commitments)\n",
    "    - 2.1 [The Setup Phase](#2.1-The-Setup-Phase)\n",
    "    - 2.2 [The Commitment Phase](#2.2-The-Commitment-Phase)\n",
    "    - 2.3 [The Opening Phase](#2.3-The-Opening-Phase)\n",
    "    - 2.4 [The Verification Phase](#2.4.-The-Verification-Phase)\n",
    "    - 2.5 [A `sagemath` Implementation](#2.5-A-sagemath-Implementation)\n",
    "3. [Closing remarks](#3.-Closing-remarks)\n",
    "    - 3.1 [Recovering the message from the polynomial?](#3.1-Recovering-the-message-from-the-polynomial?)\n",
    "    - 3.2 [Abstraction!](#3.2-Abstraction!)\n",
    "\n",
    "# 1. Preliminaries\n",
    "\n",
    "One can define Mathematics as the field that studies patterns, as it contains a vast amount of subfields, each of which ultimately leads to the description and formalization of patterns and behaviors under the formalism of axioms and theorems. In fact, the whole Mathematic universe sustains itself on a series of axioms (statements that are taken as true), being the most widely used the [Zermelo-Fraenkel axioms](https://en.wikipedia.org/wiki/Zermelo%E2%80%93Fraenkel_set_theory) (ZF axioms), which are the basis of modern Set Theory.\n",
    "\n",
    "It is through set theory that we can define the most basic mathematical object: numbers.\n",
    "\n",
    "## 1.1 Number Sets\n",
    "\n",
    "We are going to start with the set of Natural numbers $\\mathbb{N}$, which most authors define as the set of all positive integers: $\\{1,2,3,4,\\dots\\}$ (we denote a set as a pair of $\\{\\}$ containing some/all of the elements of the set). If you're curious about how this set is constructed, check out [Wikipedia's article on the Set theoretic definition of natural numbers](https://en.wikipedia.org/wiki/Set-theoretic_definition_of_natural_numbers). Some mathematicians (like myself) would also include the number $0$ in this set, but for the sake of coherency with Least Authority's MoonMath manual, we'll stick to the former definition. In case one would want to explicitly include $0$ in the set of Natural numbers, some authors adopt the notation $\\mathbb{N}_0$.\n",
    "\n",
    "The set of Integers $\\mathbb{Z}$ is an extension of $\\mathbb{N}$ and is defined as the set of all positive and negative integers: $\\{\\dots,-3,-2,-1,0,1,2,3,\\dots\\}$. The need of this extension is due to the fact that some operations (like subtraction $^*$) are not closed under $\\mathbb{N}$, meaning that the result of the operation is not necessarily an element of $\\mathbb{N}$. More on that later.\n",
    "\n",
    "\n",
    "The set of Rational numbers $\\mathbb{Q}$ is an extension of $\\mathbb{Z}$ and is defined as the set of all numbers that can be expressed as the quotient of two integers (assuming the divisor is non-zero): $\\{\\frac{a}{b} \\mid a,b\\in\\mathbb{Z}, b\\neq 0\\}$ (this reads like _\"the set composed by the quotients of $a$ and $b$, so that $a$ and $b$ are elements of the set of integers and $b$ is non-zero\"_). This extension also arises from the need of closure under some operations (like division $^*$).\n",
    "\n",
    "We are going to define the set of Irrational numbers (some authors denote it as $\\mathbb{I}$) and the set of Real numbers $\\mathbb{R}$ together. $\\mathbb{I}$ is defined as the set of numbers that _\"cannot be expressed as the quotient of two integers\"_, and $\\mathbb{R}$ can be easily defined as the union of $\\mathbb{Q}$ and $\\mathbb{I}$: $\\mathbb{R} = \\mathbb{Q}\\cup\\mathbb{I}$. Given that we won't need these number sets for this session, we won't touch on the construction of $\\mathbb{R}$ and $\\mathbb{I}$. If curious, you may check out [Wikipedia's article on the construction of the real numbers](https://en.wikipedia.org/wiki/Construction_of_the_real_numbers) and [Wikipedia's article on irrational numbers](https://en.wikipedia.org/wiki/Irrational_number).\n",
    "\n",
    "Finally, another set that is of general interest in mathematics is the set of Complex numbers $\\mathbb{C}$, which is defined as the set of numbers that can be expressed as $a+bi$, where $a,b\\in\\mathbb{R}$ and $i$ is the imaginary unit, defined as $i^2=-1$. This set extends the real numbers $\\mathbb{R}$ and arises from the need of closure under some operations (like the square root of a negative number $^*$)\n",
    "\n",
    "$^*$ _Soon you wil see that \"subtraction\", \"division\" and \"square root\" are actually aliases for something else..._ 😯\n",
    "\n",
    "From now on, we'll be working with the set of Integers $\\mathbb{Z}$ and the set of Natural numbers $\\mathbb{N}$, so don't worry too much about the other sets.\n",
    "\n",
    "## 1.2 Prime Numbers\n",
    "\n",
    "A prime number is a natural Number ($\\mathbb{N}$) that has the following properties:\n",
    "\n",
    "- is greater than 1\n",
    "- is divisible only by itself and $1$\n",
    "\n",
    "_Remember: $a$ is divisible by $b$ if_ $\\frac{a}{b}\\in\\mathbb{Z}$\n",
    "\n",
    "We denote the set of prime numbers as $\\mathbb{P}$. Note that there is only one even prime number: $2$. Several authors denote $\\mathbb{P}_{\\geq 3}$ as the set of **odd** prime numbers.\n",
    "\n",
    "## 1.3 Coprime Integers\n",
    "\n",
    "It is said that two integers $a$ and $b$ are coprime if their greatest common divisor (GCD) is $1$. We denote this as $gcd(a,b)=1$. This means that $a$ and $b$ do not share any common factors other than $1$.\n",
    "\n",
    "For example $gcd(4,9)=1$ ($4$ and $9$) are coprime, but $gcd(4,8)=4$ ($4$ and $8$ are not coprime). Usually, this is checked by means of the [Euclidean algorithm](https://en.wikipedia.org/wiki/Euclidean_algorithm). A more brute-force way to check if two numbers are coprime is to check if their prime factorization has any common factors. Let's take the previous examples:\n",
    "\n",
    "- $4$ and $9$ are coprime: $4=2^2$ and $9=3^2$, so they don't share any common factors\n",
    "- $4$ and $8$ are not coprime: $4=2^2$ and $8=2^3$ because they share the common factor $2$ twice! $4=2^2$ and $8=2^3=2\\cdot 2^2$, thus the GCD is $2^2=4$\n",
    "\n",
    "A fun corollary of this is that if either $a$ or $b$ is prime, then $gcd(a,b)=1$, i.e. the pair is co-prime. This is because a prime number can only be divided by itself and $1$.\n",
    "\n",
    "## 1.4 Modular aritmethic\n",
    "\n",
    "Modular arithmetic is a system of arithmetic for integers, where numbers \"wrap around\" upon reaching a certain value—the modulus _(doesn't this sound familiar with computer science's concept of integer overflow/underflow? A Solidity `uint256` type is a positive integer defined on modular arithmetic of modulus $2^{256}$ !_ 🤯 _)_\n",
    "\n",
    "For example, let's take modulus 5, and add the numbers 4 and 3:\n",
    "\n",
    "$$4+3=7\\equiv 2\\quad\\text{mod}~5$$\n",
    "\n",
    "_(Note that the symbol $\\equiv$ means \"equivalent\")_\n",
    "\n",
    "So basically, $4$ plus $3$ is $7$, but if we \"wrap around\" the result to the modulus $5$, we get $2$. Another way to think about it is that every time we get a number that is greater than the modulus, we subtract the modulus until we get a number that is less than the modulus. i.e. we divide by the modulus and keep the remainder.\n",
    "\n",
    "The exact same thing happens with multiplication:\n",
    "\n",
    "$$2\\cdot 4=8\\equiv 3\\quad\\text{mod}~5$$\n",
    "\n",
    "One can quickly notice that the modulus gives the number of possible results of the operation. In the previous example, we had $5$ possible results: $0,1,2,3,4$. So, if we are in modulus $n$ the set of numbers $\\{0,\\dots,n-1\\}$ are actually all the numbers we will ever get when doing arithmetic operations with modulus $n$. This set is denoted as $\\mathbb{Z_n}$ (other mathematicians, as myself, prefer denoting it as $\\mathbb{Z}/n\\mathbb{Z}$, but for the sake of coherency with Least Authority's MoonMath manual, we'll stick to the former notation).\n",
    "\n",
    "These concepts give rise to **equivalence classes**. To put it easy, an equivalente class is a set of numbers that _\"are equal\"_ under modulus $n$. From each equivalente class, we take _\"one representative number\"_ to identify each class. Let's go back again to our modulus $5$ example. As mentioned, $\\mathbb{Z}_5=\\{0,1,2,3,4\\}$. So, the equivalence class of $0$ is $\\{\\dots,-5,0,5,10,15,\\dots\\}$, basically $\\{a\\mid a\\in\\mathbb{Z}, \\frac{a}{5}\\in\\mathbb{Z}\\}$. What about the equivalence class of $3$? Well, it's $\\{\\dots,-2,3,8,13,18,\\dots\\}$, basically $\\{a\\mid a\\in\\mathbb{Z}, \\frac{a - 3}{5}\\in\\mathbb{Z}\\}$. It's the set of numbers that _\"fall\"_ on the same number once wrapping around 5 (i.e. the set of numbers that have the same remainder when divided by 5).\n",
    "\n",
    "_(Note that the symbol $\\in$ means \"is an element of\")_\n",
    "\n",
    "If the equivalence classes remain unclear, think about a clock: it has $12$ hours, and once it reaches $12$, it goes back to $1$. So, the equivalence class of $1$ is $\\{\\dots,1,13,25,\\dots\\}$, the equivalence class of $2$ is $\\{\\dots,2,14,26,\\dots\\}$, and so on. The equivalence class of $12$<> is $\\{\\dots,0, 12,24,36,\\dots\\}$. That's why when a digital clock reads `13:00`, we say it's `1:00 PM`, because $13$ is equivalent to $1$ under modulus $12$.\n",
    "\n",
    "These sets will give rise to interesting algebraic structures, as we'll see later.\n",
    "\n",
    "## 1.5 Basic Algebraic Structures\n",
    "\n",
    "So far, we've seen some basic number sets and some basic arithmetic operations. Now, we'll see some basic algebraic structures that arise from these sets and operations.\n",
    "\n",
    "But first, what is Algebra? Many people think of Algebra as the study of equations, but that's not entirely true. Algebra is the study of mathematical structures, their properties and how to manipulate them. To put it simple, it is like having a _\"bag of objects\"_ and some _\"rules\"_ to manipulate those _\"objects\"_.\n",
    "\n",
    "_(Doesn't this ring a bell for you? It's like having a `class` in Object Oriented Programming, and some `methods` to manipulate the `class` `instance` !_ 🤯 _)_\n",
    "\n",
    "### 1.5.1 Abelian Groups\n",
    "\n",
    "Any algebraic structure is defined through a set and an operation. Let's start with the most basic algebraic structure: the Abelian Group. An Abelian Group (also known as commutative group) $\\mathbb{G}$ is a tuple $(G,\\oplus)$ where $G$ is a set and $\\oplus$ is a binary operation (i.e. an operation that takes two elements of the set and returns another element) that satisfies the following properties:\n",
    "\n",
    "- Closure: $\\forall a,b\\in G, a\\oplus b\\in G$ (the elements returned by the operation are elements of the set).\n",
    "- Associativity: $\\forall a,b,c\\in G, (a\\oplus b)\\oplus c=a\\oplus(b\\oplus c)$\n",
    "- Identity element: $\\exists e\\in G, \\forall a\\in G, a\\oplus e=e\\oplus a=a$. $e$ is called the identity element. Sometimes it is also denoted by a **bold** \"one\": $\\boldsymbol{1}$\n",
    "- Inverse element: $\\forall a\\in G, \\exists a^{-1}\\in G, a\\oplus a^{-1}=a^{-1}\\oplus a=e$. $a^{-1}$ is called the inverse element of $a$.\n",
    "- Commutativity: $\\forall a,b\\in G, a\\oplus b=b\\oplus a$\n",
    "\n",
    "_(Note that the symbol $\\forall$ means \"for all\" and $\\exists$ means \"there exists\")_\n",
    "\n",
    "If you're familiar with Object Oriented Programming, you can think of an Abelian Group as a `class` with a `method` that takes two `instances` of the `class` and returns another `instance` of the `class`. The `class` is the set $G$, the `method` is the binary operation $\\oplus$, and the `instances` are the elements of the set $G$.\n",
    "\n",
    "Let's see some examples of Abelian Groups:\n",
    "\n",
    "- The set of integers $\\mathbb{Z}$ with the binary operation $+$ (addition) is an Abelian Group. The identity element is $0$ and the inverse element of $a$ is $-a$. _(See why [earlier](#1.1-Number-Sets) we mentioned that subtraction is an alias? It is an alias for \"addition with the inverse\")_\n",
    "- The set of integers $\\mathbb{Z}$ with the binary operation $\\cdot$ (product; multiplication) is **NOT** an Abelian Group. The identity element is $1$ but the inverse element of $a$ is $\\frac{1}{a}$, which is NOT an element of $\\mathbb{Z}$. _(Again, see why [earlier](#1.1-Number-Sets) we mentioned that division is an alias? It is an alias for \"multiplication with the inverse\")_.\n",
    "- The set of rational numbers $\\mathbb{Q}$ with the binary operation $\\cdot$ (product; multiplication) is an Abelian Group. The identity element is $1$ and the inverse element of $a$ is $\\frac{1}{a}$. _(See why [earlier](#1.1-Number-Sets) we mentioned that $\\mathbb{Q}$ is an extension of $\\mathbb{Z}$ ?)_\n",
    "\n",
    "If the commutativity property is not present in the Abelian Group, then it is just called a Group. _Can you think of an example of a tuple $(G,\\oplus)$ that is a Group but not an Abelian Group?_ 😉\n",
    "\n",
    "#### Finite Groups, Group Order, Cyclic Groups and Generators\n",
    "\n",
    "The previous examples of Abelian Groups are infinite (i.e. the set $G$ that composes $\\mathbb{G}$ contains an infinite amount of elements). But what if the set $G$ is finite? Then we call it a Finite Group. The number of elements in the grpup $\\mathbb{G}$ is called the order of the group, and is usually denoted by $\\left|\\mathbb{G}\\right|$.\n",
    "\n",
    "Let's go back to our example of the set of integers $\\{0,1,2,3,4\\}$ (which is a finite set) and the binary operation $+$. Is this a Finite Group? The answer is **NO**, because we lack **closure**: if we perform $2 + 3 = 5$, and $5$ is not in the set. However, if we change $+$ for $+$ under modulo $5$, then we do get a Finite Group, because this time $2 + 3 = 5\\equiv 0\\quad\\text{mod}~5$. Indeed, all groups $(\\mathbb{Z}_n, +~\\text{mod}~ n)$ are finite (abelian) groups, whose order is $n$.\n",
    "\n",
    "Let's talk about Cyclic groups. A Cyclic Group is a group that can be generated by a single element, called **generator** by means of the binary operation. For example, $\\mathbb{Z}$ with the binary operation addition $+$ is indeed an infinite cyclic group, which has two different generators: $1$ and $-1$, because every integer can be generated by adding $1$ or $-1$ to itself, or through their inverses.\n",
    "\n",
    "The same happens with $\\mathbb{Z}_n$ with the binary operation addition $+$ under modulo $n$. For example, $\\mathbb{Z}_5$ has four generators: $1$, $2$, $3$ and $4$, because every element of $\\mathbb{Z}_5$ can be generated by adding $1$ or $4$ to itself. In fact, every group $(\\mathbb{Z}_n, +~\\text{mod}~ n)$ is a cyclic group, and the generators are co-prime with $n$.\n",
    "\n",
    "For example, let's take the clock ($\\mathbb{Z}_{12}$) with the binary operation addition $+$ under modulo $12$. The generators are $1$, $5$, $7$ and $11$. Try it out! By now you must have noticed that $\\mathbb{Z}_p$ where $p\\in\\mathbb{P}$ (i.e. the set of prime numbers) with the binary operation addition $+$ under modulo $p$ is very interesting because it is a **finite cyclic abelian group** whose generators are all the numbers in the set except $0$ (because trivially all the numbers in the set are coprime with $p$ 😄).\n",
    "\n",
    "\n",
    "#### The Exponential Map\n",
    "\n",
    "Let's say we have a finite cyclic group $\\mathbb{G}=(G,\\oplus)$ of order $n$ ($\\left|\\mathbb{G}\\right|=n$; it contains $n$ elements) whose generator is $g$. The exponential map is a function that takes an integer $a\\in\\mathbb{Z}_n$ and returns the element of the group that is generated by $g^a$. One can understand $g^a$ as applying $a$ times the $\\oplus$ operation on $g$.\n",
    "\n",
    "Let's dig into an example for clarity: take the finite cyclic abelian group $\\mathbb{G}:=(\\mathbb{Z}_5, +~\\text{mod}~5)$ of order $5$, and let's choose the generator $2$ (you know it doesn't matter which one we choose because all the elements of $\\mathbb{G}$ except $0$ are generators). The exponential map, which we'll call $\\xi$ is:\n",
    "\n",
    "\\begin{align*}\n",
    "\\xi : \\mathbb{Z}_5 &\\rightarrow \\mathbb{G}\\\\\n",
    "a &\\mapsto 2\\cdot a\\quad\\text{mod}~5\n",
    "\\end{align*}\n",
    "\n",
    "Let's test if this is true:\n",
    "\n",
    "<center>\n",
    "\n",
    "|     $\\mathbb{Z}_5$         |         $\\mathbb{G}$    |\n",
    "|:---:|:----------------------------------------------:|\n",
    "| $a$ |       $\\xi(a)=2\\cdot a\\quad\\text{mod}~5$       |\n",
    "| $0$ |             $\\xi(0)=2\\cdot 0 = 0$              |\n",
    "| $1$ |             $\\xi(1)=2\\cdot 1 = 2$              |\n",
    "| $2$ |             $\\xi(2)=2\\cdot 2 = 4$              |\n",
    "| $3$ | $\\xi(3)=2\\cdot 3 = 6\\equiv 1\\quad\\text{mod}~5$ |\n",
    "| $4$ | $\\xi(4)=2\\cdot 4 = 8\\equiv 3\\quad\\text{mod}~5$ |\n",
    "\n",
    "</center>\n",
    "\n",
    "See? We have generated all the elements of $\\mathbb{G}$ with the generator $2$ using the exponential map.\n",
    "\n",
    "Let's dig into another example: take the finite cyclic abelian group $\\mathbb{G}:=(\\{1,2,3,4,5,6\\}, \\cdot~\\text{mod}~7)$ of order $6$, and let's choose the generator $3$. The exponential map, which we'll call $\\xi$ is:\n",
    "\n",
    "\\begin{align*}\n",
    "\\xi : \\mathbb{Z}_6 &\\rightarrow \\mathbb{G}\\\\\n",
    "a &\\mapsto 3^a\\quad\\text{mod}~7\n",
    "\\end{align*}\n",
    "\n",
    "Let's test if this is true:\n",
    "\n",
    "<center>\n",
    "\n",
    "|     $\\mathbb{Z}_6$         |         $\\mathbb{G}$     |\n",
    "|:---:|:-----------------------------------------------:|\n",
    "| $a$ |         $\\xi(a) = 3^a\\quad\\text{mod}~7$         |\n",
    "| $0$ |               $\\xi(0)= 3^0 = 1$                 |\n",
    "| $1$ |               $\\xi(1)= 3^1 = 3$                 |\n",
    "| $2$ |               $\\xi(2)= 3^2 = 2$                 |\n",
    "| $3$ |   $\\xi(3)=3^3 = 27 \\equiv 6\\quad\\text{mod}~7$   |\n",
    "| $4$ |   $\\xi(4)=3^4 = 81 \\equiv 4\\quad\\text{mod}~7$   |\n",
    "| $5$ | $\\xi(5)=3^5 = 243 = 8\\equiv 5\\quad\\text{mod}~7$ |\n",
    "\n",
    "</center>\n",
    "\n",
    "_(Note that the set $\\{1,2,3,4,5,6\\}$ can also be referred as $\\mathbb{Z}_7^*$, because it's like $\\mathbb{Z}_7$ but without the $0$)_\n",
    "\n",
    "The exponential map allows to perform so-called _\"calculations in the exponent\"_. For the previous example, let's take that we want to compute $5\\cdot 6\\cdot 3\\quad\\text{mod}~7$. We can do it two ways:\n",
    "\n",
    "- Directly: $5\\cdot 6\\cdot 3 = 90\\equiv 6\\quad\\text{mod}~7$\n",
    "- In the exponent: $5\\cdot 6\\cdot 3 \\equiv 3^5\\cdot 3^3\\cdot 3^1 = 3^{5+3+1~\\text{mod}~6}=3^3 = 27 \\equiv 6$\n",
    "\n",
    "This property gets more useful when we are dealing with large numbers, because we can significantly reduce the size of the numbers we are working with.\n",
    "\n",
    "#### Pairings\n",
    "\n",
    "A pairing map takes elements from a group $\\mathbb{G}_1$ and elements from a group $\\mathbb{G}_2$ and returns an element of a group $\\mathbb{G}_T$. Let's define the pairing $e$, and a pair $(a,b)\\mid a\\in\\mathbb{G_1}, b\\in\\mathbb{G}_2$:\n",
    "\n",
    "\\begin{align*}\n",
    "e : \\mathbb{G}_1\\times\\mathbb{G}_2 &\\rightarrow \\mathbb{G}_T\\\\\n",
    "(a,b) &\\mapsto e(a,b)\n",
    "\\end{align*}\n",
    "\n",
    "A pairing is said to be **bilinear** if for all $g_1,g'_1\\in\\mathbb{G}_1$ and $g_2,g'_2\\in\\mathbb{G}_2$, it is satisfied that:\n",
    "\n",
    "\\begin{align*}\n",
    "e(g_1\\oplus g'_1,g_2) &= e(g_1,g_2)\\oplus e(g'_1,g_2)\\\\\n",
    "e(g_1,g_2\\oplus g'_2) &= e(g_1,g_2)\\oplus e(g_1,g'_2)\n",
    "\\end{align*}\n",
    "\n",
    "A pairing is said to be **non-degenerate** if for all $g_1\\in\\mathbb{G}_1$ and $g_2\\in\\mathbb{G}_2$, it is satisfied that:\n",
    "\n",
    "$$e(g_1,g_2)=\\boldsymbol{1}_{\\mathbb{G}_T}\\Rightarrow \\boldsymbol{1}_{\\mathbb{G}_1}\\quad\\text{or}\\quad\\boldsymbol{1}_{\\mathbb{G}_2}$$\n",
    "\n",
    "In other words, if the pairing of two elements of $\\mathbb{G}_1$ and $\\mathbb{G}_2$ is the neutral element of $\\mathbb{G}_T$, then at least one of the elements of $\\mathbb{G}_1$ or $\\mathbb{G}_2$ must be the neutral element of their respective group.\n",
    "\n",
    "A simple example for a pairing is taking all the groups as the set of integers $\\mathbb{Z}_p$ with the binary operation addition $+$ and the pairing $e$ as:\n",
    "\n",
    "\\begin{align*}\n",
    "e : \\mathbb{Z}\\times\\mathbb{Z} &\\rightarrow \\mathbb{Z}\\\\\n",
    "(a,b) &\\mapsto a\\cdot b\n",
    "\\end{align*}\n",
    "\n",
    "It is easy to see that\n",
    "\n",
    "\\begin{align*}\n",
    "e(a + b, c) &= (a + b)\\cdot c = a\\cdot c + b\\cdot c = e(a, c) + e(b, c)\\\\\n",
    "e(a,b) &= 0 \\Rightarrow a = 0 \\quad\\text{or}\\quad b = 0\n",
    "\\end{align*}\n",
    "\n",
    "both hold.\n",
    "\n",
    "_Can you think of another example of a pairing?_ 😉\n",
    "\n",
    "### 1.5.2 Rings\n",
    "\n",
    "The next algebraic structure we'll see are Rings (more specifically, commutative rings). A Ring $R$ is a tuple $(R,\\oplus,\\otimes)$ where $R$ is a set and $\\oplus$ and $\\otimes$ are binary operations that satisfy the following properties:\n",
    "\n",
    "- $(R,\\oplus)$ is an Abelian Group\n",
    "- Commutativity: $\\forall a,b\\in R, a\\otimes b=b\\otimes a$\n",
    "- Associativity: $\\forall a,b,c\\in R, (a\\otimes b)\\otimes c=a\\otimes(b\\otimes c)$\n",
    "- Distributivity: $\\forall a,b,c\\in R, (a\\oplus b)\\otimes c=(a\\otimes c)\\oplus(b\\otimes c)$\n",
    "- Identity element: $\\exists e\\in R, \\forall a\\in R, a\\otimes e=e\\otimes a=a$. $e$ is called the identity element. Sometimes it is also denoted by a **bold** \"one\": $\\boldsymbol{1}$. In this case, the identity element for $\\oplus$ can be denoted by a **bold** \"zero\": $\\boldsymbol{0}$.\n",
    "\n",
    "For example, the set of integers $\\mathbb{Z}$ with the binary operations $+$ (addition) and $\\cdot$ (product; multiplication) is a Ring. The identity element for $+$ is $0$ and the identity element for $\\cdot$ is $1$.\n",
    "\n",
    "### 1.5.3 Fields & Galois Fields\n",
    "\n",
    "The final algebraic structure we'll see are Fields. A Field $\\mathbb{F}$ is a tuple $(F,\\oplus,\\otimes)$ where $F$ is a set and $\\oplus$ and $\\otimes$ are binary operations that satisfy the following properties:\n",
    "\n",
    "- $(F,\\oplus,\\otimes)$ is a Ring\n",
    "- $\\forall a\\in F\\setminus\\{0\\}, \\exists a^{-1}\\in F, a\\otimes a^{-1}=a^{-1}\\otimes a=e$. $a^{-1}$ is called the inverse element of $a$.\n",
    "\n",
    "Galois Fields (also known as Finite Fields) are a special kind of Field, where the set $F$ is finite. The order of the field is the number of elements in the set $F$, and is usually denoted by $\\left|\\mathbb{F}\\right|$. We are going to use what are known as Prime Fields, which are build by means of $\\mathbb{Z}/p\\mathbb{Z}$ with the binary operations $+$ (addition) and $\\cdot$ (product; multiplication) under modulo $p$, where $p\\in\\mathbb{P}$. These special fields are denoted as $\\mathbb{F}_p$.\n",
    "\n",
    "_What if $\\mathbb{Z}/n\\mathbb{Z}$, where $n\\notin\\mathbb{P}$?_\n",
    "\n",
    "In that case, we would have a Ring, but not a Field, because not every arbitrary element of $a\\in\\mathbb{Z}/n\\mathbb{Z}\\setminus\\{0\\}$ has an inverse $a^{-1}$ in the set. For example, let's take $\\mathbb{Z}/6\\mathbb{Z}$ with the binary operation $\\cdot$ (product; multiplication) under modulo $6$. Since $\\mathbb{Z}/6\\mathbb{Z}=\\{0,1,2,3,4,5\\}$, let's construct the multiplication table:\n",
    "\n",
    "<center>\n",
    "\n",
    "| $\\cdot$ | $0$ | $1$ | $2$ | $3$ | $4$ | $5$ |\n",
    "|:-------:|:---:|:---:|:---:|:---:|:---:|:---:|\n",
    "|   $0$   | $0$ | $0$ | $0$ | $0$ | $0$ | $0$ |\n",
    "|   $1$   | $0$ | $1$ | $2$ | $3$ | $4$ | $5$ |\n",
    "|   $2$   | $0$ | $2$ | $4$ | $0$ | $2$ | $4$ |\n",
    "|   $3$   | $0$ | $3$ | $0$ | $3$ | $0$ | $3$ |\n",
    "|   $4$   | $0$ | $4$ | $2$ | $0$ | $4$ | $2$ |\n",
    "|   $5$   | $0$ | $5$ | $4$ | $3$ | $2$ | $1$ |\n",
    "\n",
    "</center>\n",
    "\n",
    "Notice that there are rows/columns (besides $0$) that do not have a single entry that equals 1? For example, $2$, $3$ and $4$. This means that only $1$ and $5$ have a multiplicative inverse in $\\mathbb{Z}/6\\mathbb{Z}$, while the rest of the elements do not. Therefore, $\\mathbb{Z}/6\\mathbb{Z}$ is not a Field. _What do the elements that do not have an inverse have in common?_ 😉\n",
    "\n",
    "## 1.6 Polynomials\n",
    "\n",
    "A polynomial is an expression consisting of variables (also called indeterminates) and coefficients, that involves only the operations of addition, subtraction, multiplication, and non-negative integer exponents of variables. An example of a polynomial of a single indeterminate $x$ is $x^2 - 4x + 7$. An example in three variables is $x^3 + 2xyz^2 - yz + 1$. Usually, when talking about polynomials, one refers to the set of polynomials with coefficients and values that \"live\" in the field of real numbers $\\mathbb{R}$ (embeded with the binary operations $+$ (addition) and $\\cdot$ (product; multiplication)). This set is denoted as $\\mathbb{R}[x]$. For example, the polynomial $x^2 - 2$ is an element of $\\mathbb{R}[x]$.\n",
    "\n",
    "As you may have guessed, we can define polynomials over any field $\\mathbb{F}$, and denote the set of polynomials with coefficients and values that \"live\" in $\\mathbb{F}$ as $\\mathbb{F}[x]$. For example, the polynomial $x^2 - 2$ is also an element of $\\mathbb{F}_5[x]$.\n",
    "\n",
    "The field over which we construct the polynomials greatly affects the properties of the polynomials. For example, let's take the polynomial $x^2 - 2$.\n",
    "- If we are working with $\\mathbb{R}[x]$, then this polynomial has two roots: $\\sqrt{2}$ and $-\\sqrt{2}$, because $x^2 - 2 = (x - \\sqrt{2})(x + \\sqrt{2})$.\n",
    "- If we are working with $\\mathbb{F}_5[x]$, then this polynomial has no roots, because $\\pm\\sqrt{2}$ are not elements of $\\mathbb{F}_5$.\n",
    "\n",
    "So, $x^2 - 2$ is an irreducible polynomial in $\\mathbb{F}_5[x]$, but not in $\\mathbb{R}[x]$.\n",
    "\n",
    "Let's check out another example: the polynomial $x^2 + 1$.\n",
    "- If we are working with $\\mathbb{R}[x]$, then this polynomial has no roots, because $x^2 + 1 = (x + i)(x - i)$, where $i$ is the imaginary unit, and $i$ is not an element of $\\mathbb{R}$.\n",
    "- If we are working with $\\mathbb{C}[x]$, then this polynomial has two roots: $\\pm i$.\n",
    "- If we are working with $\\mathbb{F}_5[x]$, then this polynomial has two roots: $2$ and $3$, because $x^2 + 1 = (x - 2)(x - 3)$.\n",
    "\n",
    "Let's elaborate a bit on the previous statement. Remember that in $\\mathbb{F}_5[x]$, all operations are done under modulo $5$. So, let's expand $(x - 2)(x - 3)$:\n",
    "\n",
    "\\begin{align*}\n",
    "(x - 2)(x - 3) &= x^2 - 3x - 2x + 6\\\\\n",
    "&= x^2 - 5x + 6\\\\\n",
    "&\\equiv x^2 + 1\\quad\\text{mod}~5\n",
    "\\end{align*}\n",
    "\n",
    "# 2. KZG Commitments\n",
    "\n",
    "Now that we have a basic understanding of the algebraic structures we'll be working with, let's dive into the KZG Commitments. The KZG Commitment scheme is a commitment scheme that allows to commit to a polynomial $\\phi(x) = a_0 + a_1x + a_2x^2+\\dots+a_tx^t$, where $\\phi(x)\\in\\mathbb{F}_p[x]$. _\"To commit\"_ means proving that you know the polynomial $\\phi(x)$ without revealing it. Think of it as a sealed envelope.\n",
    "\n",
    "## 2.1 The Setup Phase\n",
    "\n",
    "Let's define a Galois Field $\\mathbb{F}_p$ where $p$ is a prime number. We'll also define a maximum degree $t$ for the polynomials we'll be working with, so that $t < p$. _If you want to do this properly, you must choose a prime so that it fulfills the $k$ bits of security that you want to establish for your commitment scheme. For example, if you want $128$ bits of security, you must choose a prime $p$ so that_ $2^{128} < p < 2^{129}$.\n",
    "\n",
    "Now, we'll define a generator $g$ of $\\mathbb{F}_p$. We will also need to compute two groups $\\mathbb{G}$ and $\\mathbb{G}_T$ that have $g$ as their generator. We'll also need to define a pairing $e:\\mathbb{G}\\times\\mathbb{G}\\to\\mathbb{G}_T$ that is bilinear and non-degenerate.\n",
    "\n",
    "A trusted party then picks a random $\\alpha\\in\\mathbb{F}_p^*$ and computes the public parameters $PP$:\n",
    "\n",
    "$$\n",
    "PP = \\left\\langle g, g^\\alpha, g^{\\alpha^2}, \\dots, g^{\\alpha^t}\\right\\rangle\n",
    "$$\n",
    "\n",
    "$PP$ will be publicly available **to everyone**. The trusted party will then **HAVE TO DELETE** $\\alpha$. _(More on that later)_\n",
    "\n",
    "## 2.2 The Commitment Phase\n",
    "\n",
    "Now, let's say we want to commit to a polynomial $\\phi(x) = a_0 + a_1x + a_2x^2+\\dots+a_tx^t$, where $\\phi(x)\\in\\mathbb{F}_p[x]$. We'll compute the commitment $\\mathcal{C}\\in\\mathbb{F}_p$:\n",
    "\n",
    "$$\n",
    "\\mathcal{C} = g^{\\phi(\\alpha)}\n",
    "$$\n",
    "\n",
    "You may ask youself, how? $\\alpha$ is unknown! Well, remember that we have the public parameters $PP$, which contain $g^\\alpha$, $g^{\\alpha^2}$, $\\dots$, $g^{\\alpha^t}$. So, we can compute the commitment $\\mathcal{C}$ by **evaluating on the exponent**:\n",
    "\n",
    "\\begin{align*}\n",
    "\\mathcal{C} &= g^{\\phi(\\alpha)}\\\\\n",
    "&= g^{a_0 + a_1\\alpha + a_2\\alpha^2+\\dots+a_t\\alpha^t}\\\\\n",
    "&= g^{a_0}\\cdot g^{a_1\\alpha}\\cdot g^{a_2\\alpha^2}\\cdot\\dots\\cdot g^{a_t\\alpha^t}\\\\\n",
    "&= g^{a_0}\\cdot (g^{\\alpha})^{a_1}\\cdot (g^{\\alpha^2})^{a_2}\\cdot\\dots\\cdot (g^{\\alpha^t})^{a_t}\\\\\n",
    "\\end{align*}\n",
    "\n",
    "Clearly, we know $g^\\alpha, g^{\\alpha^2},\\dots$ from the Public Parameters ($PP$)! So, we can compute the commitment $\\mathcal{C}$.\n",
    "\n",
    "## 2.3 The Opening Phase\n",
    "\n",
    "In this step, the Verifier will ask the Prover to \"open\" the commitment $\\mathcal{C}$ to a random specific point $s\\in\\mathbb{F}_p$. In other words, the prover will have to evaluate $\\phi(s)$ and commit the result in the form of the opening triplet $OT = \\left(s,\\phi(s),\\mathcal{C}_{\\psi_s}\\right)$. Computing $\\phi(s)$ is trivial, but how do we compute $\\mathcal{C}_{\\psi_s}$?\n",
    "\n",
    "$\\mathcal{C}_{\\psi_s}$ is defined as $g^{\\psi(\\alpha)}$, where $\\psi(\\alpha)$ is the proof polynomial that is constructed from $\\phi(x)$ and $s$. To contstruct this polynomial, let's imagine the polynomial $\\rho(x)\\in\\mathbb{F}_p\\mid \\rho(x)=\\phi(x)-\\phi(s)$. Trivially, $\\rho(x)$ has $s$ as one of its roots (because $\\rho(s)=\\phi(s)-\\phi(s)=0$). That means it admits a factorization of the form $\\rho(x)=\\psi_s(x)\\cdot(x-s)$, where $\\psi_s(x)$ is a polynomial of degree $t - 1$.\n",
    "\n",
    "Given that $\\rho(s)=\\phi(s)-\\phi(s)=\\psi_s(x)\\cdot(x - s)$, we have $\\psi_s(x)=\\frac{\\phi(x)-\\phi(s)}{x - s}$. Now, we can compute the commitment $\\mathcal{C}_{\\psi_s}$ the same way as we computed the commitment $\\mathcal{C}$, we just have to replace $\\phi(x)$ with $\\psi_s(x)$.\n",
    "\n",
    "The opening triplet $OT$ is then sent to the Verifier.\n",
    "\n",
    "## 2.4. The Verification Phase\n",
    "\n",
    "The verifier has to check that the opening triplet $OT$ is valid. In other words, that $\\phi(s)$ is indeed evaluating $\\phi(x)$ (which is hidden in $\\mathcal{C}$) on $s$.\n",
    "\n",
    "The verifier knows $PP$ (public by default), $\\mathcal{C}=g^{\\phi(\\alpha)}$, $s$, $\\phi(s)$ and $\\mathcal{C}_{\\psi_s}=g^{\\psi_s(\\alpha)}$. Also, the verifier will make use of the pairing $e:\\mathbb{G}\\times\\mathbb{G}\\to\\mathbb{G}_T$ that is bilinear and non-degenerate. Why? Imagine we had no pairing $e$, and the verifier attempted to verify the commitment $\\mathcal{C}$:\n",
    "\n",
    "\\begin{align*}\n",
    "\\mathcal{C} &= g^{\\phi(\\alpha)}\\\\\n",
    "&= g^{\\psi_s(\\alpha)\\cdot(\\alpha - s) + \\phi(s)}\\\\\n",
    "&= g^{\\psi_s(\\alpha)\\cdot(\\alpha - s)}\\cdot g^{\\phi(s)}\\\\\n",
    "&= \\mathcal{C}_{\\psi_s}^{(\\alpha - s)}\\cdot g^{\\phi(s)}\n",
    "\\end{align*}\n",
    "\n",
    "This would precise the verifier knowing $\\alpha$. But, since we have the pairing $e$, we can check if the following holds:\n",
    "\n",
    "$$\n",
    "e(\\mathcal{C}, g) = e(\\mathcal{C}_{\\psi_s}, g^{\\alpha - s})\\cdot e(g^{\\phi(s)}, g)\n",
    "$$\n",
    "\n",
    "Why? Let's elaborate:\n",
    "\n",
    "\\begin{align*}\n",
    "e(\\mathcal{C}, g) &= e(g^{\\phi(\\alpha)}, g)\\\\\n",
    "&= e(g, g)^{\\phi(\\alpha)}\\\\\n",
    "&= e(g, g)^{\\psi_s(\\alpha)\\cdot(\\alpha - s) + \\phi(s)}\\\\\n",
    "&= e(g, g)^{\\psi_s(\\alpha)\\cdot(\\alpha - s)}\\cdot e(g, g)^{\\phi(s)}\\\\\n",
    "&= e(g^{\\psi_s(\\alpha)}, g^{(\\alpha - s)})\\cdot e(g, g)^{\\phi(s)}\\\\\n",
    "&= e(\\mathcal{C}_{\\psi_s}, g^{\\alpha - s})\\cdot e(g, g)^{\\phi(s)}\\\\\n",
    "&= e(\\mathcal{C}_{\\psi_s}, g^{\\alpha}\\cdot g^{- s})\\cdot e(g, g)^{\\phi(s)}\n",
    "\\end{align*}\n",
    "\n",
    "The nice property is that the verifier has all the information needed to compute this. In particular, $g^{\\alpha}$ is given in the Public Parameters ($PP$) and $g^{- s}$ is easily computable.\n",
    "\n",
    "\n",
    "## 2.5 A `sagemath` Implementation\n",
    "\n",
    "Let's replicate (and implement) the previous steps one by one.\n",
    "\n",
    "> Remember, we want to prove that we know a Polynomial $\\phi(x) = a_0 + a_1x + a_2x^2+\\dots+a_tx^t$, where $\\phi(x)\\in\\mathbb{F}_p[x]$.\n",
    "\n",
    "### 2.5.1 Setup\n",
    "\n",
    "First we'll have to define a couple variables:\n",
    "- $p$ prime which will aid us to build our Prime Field $\\mathbb{F}_p$\n",
    "- $t$ the maximum degree of the polynomials in our Polynomial Field $\\mathbb{F}_p[x]$, so that $t < p$\n",
    "- We'll both take $\\mathbb{G}$ and $\\mathbb{G_T}$ as the Prime Field $\\mathbb{F}_p$ (because it is cyclic and has a generator $g$).\n",
    "\n",
    "Remember that our prime needs $k$ bits of security! So we'll have to define a function to get a safe random prime number"
   ]
  },
  {
   "cell_type": "code",
   "execution_count": 1,
   "id": "0479ad61",
   "metadata": {},
   "outputs": [
    {
     "name": "stdout",
     "output_type": "stream",
     "text": [
      "Our safe random prime is 51347\n"
     ]
    }
   ],
   "source": [
    "def safe_random_prime(k):\n",
    "    \"\"\"Generate a safe random prime.\n",
    "    Code taken from\n",
    "    https://ask.sagemath.org/question/44765/randomly-generate-a-safe-prime-of-given-length/?answer=44766#post-id-44766\n",
    "    \"\"\"\n",
    "    while true:\n",
    "        p = random_prime(2^k - 1, false, 2^(k - 1))\n",
    "        if ZZ((p - 1)/2).is_prime():\n",
    "            return p\n",
    "\n",
    "k = 16 # 16 bits of security. My laptop is not beefy and I want my public parameters to be computed in a matter of seconds\n",
    "p = safe_random_prime(k)\n",
    "print(f\"Our safe random prime is {p}\")"
   ]
  },
  {
   "cell_type": "markdown",
   "id": "ae2ca891",
   "metadata": {},
   "source": [
    "Let's define the Prime Field $\\mathbb{F}_p$"
   ]
  },
  {
   "cell_type": "code",
   "execution_count": 2,
   "id": "f275b41f",
   "metadata": {},
   "outputs": [
    {
     "name": "stdout",
     "output_type": "stream",
     "text": [
      "Finite Field of size 51347\n"
     ]
    }
   ],
   "source": [
    "F_p = GF(p)\n",
    "print(F_p)"
   ]
  },
  {
   "cell_type": "markdown",
   "id": "2e63d7ce",
   "metadata": {},
   "source": [
    "Let's generate a random $t$ so that $t < p$"
   ]
  },
  {
   "cell_type": "code",
   "execution_count": 3,
   "id": "9d9ec5a3",
   "metadata": {},
   "outputs": [
    {
     "name": "stdout",
     "output_type": "stream",
     "text": [
      "The maximum degree is 37433\n"
     ]
    }
   ],
   "source": [
    "t = 0\n",
    "\n",
    "while t == 0:\n",
    "    t = F_p.random_element()\n",
    "print(f\"The maximum degree is {t}\")"
   ]
  },
  {
   "cell_type": "markdown",
   "id": "cefb63a2",
   "metadata": {},
   "source": [
    "Now, let's get the generator $g$ of the Prime Field $\\mathbb{F}_p$"
   ]
  },
  {
   "cell_type": "code",
   "execution_count": 4,
   "id": "1a50efb5",
   "metadata": {},
   "outputs": [
    {
     "name": "stdout",
     "output_type": "stream",
     "text": [
      "The generator is 2\n"
     ]
    }
   ],
   "source": [
    "g = F_p.multiplicative_generator()\n",
    "print(f\"The generator is {g}\")"
   ]
  },
  {
   "cell_type": "markdown",
   "id": "960073d7",
   "metadata": {},
   "source": [
    "Next, we have to define a pairing $e:\\mathbb{G}\\times\\mathbb{G}\\rightarrow\\mathbb{G}_T$. We will define the simple pairing\n",
    "$$\n",
    "e(g_1,g_2)\\mapsto g_1\\cdot g_2 \\quad\\left(\\text{mod}~p\\right)\n",
    "$$"
   ]
  },
  {
   "cell_type": "code",
   "execution_count": 5,
   "id": "103eee66",
   "metadata": {},
   "outputs": [],
   "source": [
    "def e(g1, g2):\n",
    "    return F_p.prod((g1, g2))"
   ]
  },
  {
   "cell_type": "markdown",
   "id": "6e6a3093",
   "metadata": {},
   "source": [
    "We may also check that this pairing\n",
    "- is bilinear:\n",
    "$$\n",
    "e(g_1^a,g_2^b)=e(g_1^{ab},g_2)=e(g_1,g_2^{ab})=e(g_1,g_2)^{ab}\n",
    "$$\n",
    "    see:\n",
    "$$\n",
    "ag_1\\cdot bg_2 = abg_1\\cdot g_2 = g_1\\cdot abg_2 = ab(g_1\\cdot g_2) \\quad\\left(\\text{mod}~p\\right)\n",
    "$$ \n",
    "- non-degenerate\n",
    "$$\n",
    "e(g,g)\\neq\\boldsymbol{1}\n",
    "$$\n",
    "    see:\n",
    "$$\n",
    "2\\cdot2 = 4 \\neq 0 \\quad\\left(\\text{mod}~p\\right)\n",
    "$$"
   ]
  },
  {
   "cell_type": "markdown",
   "id": "b657166c",
   "metadata": {},
   "source": [
    "At this point, the trusted party (us, haha) retrieves a random (and secret) $\\alpha\\in\\mathbb{F}_p$"
   ]
  },
  {
   "cell_type": "code",
   "execution_count": 6,
   "id": "1786adfa",
   "metadata": {
    "scrolled": true
   },
   "outputs": [],
   "source": [
    "alpha = F_p.random_element()"
   ]
  },
  {
   "cell_type": "markdown",
   "id": "74c349bc",
   "metadata": {},
   "source": [
    "This allows computing the Public Parameters `PP`"
   ]
  },
  {
   "cell_type": "code",
   "execution_count": 7,
   "id": "8230bf1c",
   "metadata": {},
   "outputs": [],
   "source": [
    "def compute_public_parameters(F_p, alpha, t):\n",
    "\n",
    "    PP = []\n",
    "\n",
    "    accumulated = 1\n",
    "    for i in range(t + 1):\n",
    "        PP.append(F_p.prod((\n",
    "            accumulated, g\n",
    "        )))\n",
    "        accumulated = F_p.prod((accumulated, alpha))\n",
    "    return PP"
   ]
  },
  {
   "cell_type": "code",
   "execution_count": 8,
   "id": "b35ef501",
   "metadata": {},
   "outputs": [
    {
     "name": "stdout",
     "output_type": "stream",
     "text": [
      "The first elements of the public parameters are: [2, 25632, 32953, 47920, 32600, 42408, 44280, 5436, 41244, 17086, 30568, 33225, 42276, 47019, 38459, 10691, 22060, 4378, 37524, 42929, 46306, 40417, 47083, 37131, 38247, 15090, 20638, 8211, 22173, 14870, 25203, 29018, 39714, 23160, 32900, 36183, 6571, 4856, 1932, 11258, 48805, 27073, 15889, 42569, 2429, 13782, 47779, 22689, 4163, 3475, 17751, 29606, 27513, 6759, 955, 18694, 48549, 32385, 8359, 19102, 40083, 28340, 28109, 45739, 13672, 24388, 7419, 38607, 7620, 47273, 7515, 36615, 48954, 36818, 31905, 18319, 17820, 41011, 9084, 16895, 47368, 44054, 35799, 14539, 44908, 43752, 16392, 19295, 48915, 50464, 31159, 8125, 49631, 35607, 18523, 13587, 13315, 18959, 4540, 8489]\n"
     ]
    }
   ],
   "source": [
    "PP = compute_public_parameters(F_p, alpha, t)\n",
    "print(\"The first elements of the public parameters are: {}\".format(PP[:100]))"
   ]
  },
  {
   "cell_type": "markdown",
   "id": "72ceff4b",
   "metadata": {},
   "source": [
    "Remember, once we have the public parameters, **we must delete `alpha`**.\n",
    "_We are not going to do it though, for illustrative purposes!_"
   ]
  },
  {
   "cell_type": "markdown",
   "id": "0a9c05d3",
   "metadata": {},
   "source": [
    "### 2.5.2 Commitment\n",
    "\n",
    "It's time to do our commitment! In order to make it as applied as possible, let's commit a message. To do that though, we will some auxiliary code to help us!\n",
    "\n",
    "#### Reed Solomon Codes\n",
    "\n",
    "We're going to use Reed-Solomon encoding to transform our messages into a list of integers"
   ]
  },
  {
   "cell_type": "code",
   "execution_count": 9,
   "id": "9a8d81a2",
   "metadata": {},
   "outputs": [],
   "source": [
    "from reedsolo import RSCodec\n",
    "\n",
    "def reed_solomon_encode_string(input_string):\n",
    "\n",
    "    # Initialize the Reed-Solomon encoder/decoder with a specific error correction level\n",
    "    rs = RSCodec(10)  # You can adjust the error correction level as needed\n",
    "\n",
    "    # Encode the input string\n",
    "    encoded_bytes = rs.encode(input_string.encode())\n",
    "\n",
    "    # Convert the encoded bytes to a list of integers\n",
    "    return list(encoded_bytes)"
   ]
  },
  {
   "cell_type": "markdown",
   "id": "1c91275f",
   "metadata": {},
   "source": [
    "We will also need to transform this into a list of tuples, which will contain coordinates"
   ]
  },
  {
   "cell_type": "code",
   "execution_count": 10,
   "id": "a19760ec",
   "metadata": {},
   "outputs": [],
   "source": [
    "def message_as_coords(input_string):\n",
    "    y = reed_solomon_encode_string(input_string)\n",
    "    x = range(1, len(y) + 1)\n",
    "    return list(zip(x, y))"
   ]
  },
  {
   "cell_type": "markdown",
   "id": "7d74b186",
   "metadata": {},
   "source": [
    "Let's encode a message!"
   ]
  },
  {
   "cell_type": "code",
   "execution_count": 11,
   "id": "7586ebe0",
   "metadata": {
    "scrolled": true
   },
   "outputs": [
    {
     "name": "stdout",
     "output_type": "stream",
     "text": [
      "[(1, 72), (2, 101), (3, 108), (4, 108), (5, 111), (6, 32), (7, 90), (8, 101), (9, 112), (10, 112), (11, 33), (12, 25), (13, 255), (14, 128), (15, 142), (16, 165), (17, 163), (18, 57), (19, 193), (20, 169), (21, 195)]\n"
     ]
    }
   ],
   "source": [
    "msg = message_as_coords(\"Hello Zepp!\")\n",
    "print(msg)"
   ]
  },
  {
   "cell_type": "markdown",
   "id": "2daa2aae",
   "metadata": {},
   "source": [
    "#### Interpolating Polynomial\n",
    "Cool! Let's create our Polynomial Ring $\\mathbb{F}_p[x]$"
   ]
  },
  {
   "cell_type": "code",
   "execution_count": 12,
   "id": "8ef0d862",
   "metadata": {},
   "outputs": [
    {
     "data": {
      "text/plain": [
       "Univariate Polynomial Ring in x over Finite Field of size 51347"
      ]
     },
     "execution_count": 12,
     "metadata": {},
     "output_type": "execute_result"
    }
   ],
   "source": [
    "F_p_X.<x> = PolynomialRing(F_p)\n",
    "F_p_X"
   ]
  },
  {
   "cell_type": "markdown",
   "id": "6eaab670",
   "metadata": {},
   "source": [
    "And get an interpolating polynomial over our coordinates (our message)"
   ]
  },
  {
   "cell_type": "code",
   "execution_count": 13,
   "id": "421ea1b7",
   "metadata": {},
   "outputs": [
    {
     "data": {
      "text/plain": [
       "38784*x^20 + 29502*x^19 + 27814*x^18 + 15919*x^17 + 4780*x^16 + 35151*x^15 + 16478*x^14 + 40979*x^13 + 24598*x^12 + 21339*x^11 + 50472*x^10 + 6735*x^9 + 8685*x^8 + 9664*x^7 + 13815*x^6 + 14359*x^5 + 8374*x^4 + 37855*x^3 + 11600*x^2 + 18403*x + 26889"
      ]
     },
     "execution_count": 13,
     "metadata": {},
     "output_type": "execute_result"
    }
   ],
   "source": [
    "msg_poly = F_p_X.lagrange_polynomial(msg)\n",
    "msg_poly"
   ]
  },
  {
   "cell_type": "markdown",
   "id": "e4822baf",
   "metadata": {},
   "source": [
    "Since for $n$ points $(x,y)$ there exists one unique polynomial of degree $n-1$ that passes through all of them, we basically converted `\"Hello Zepp\"` into a polynomial!\n",
    "\n",
    "---\n",
    "\n",
    "Okay, now we have the polynomial that we want to commit. We will need to evaluate the polynomial at $\\alpha$. We will \"_evaluate it on the exponent_\". We can write a function for that"
   ]
  },
  {
   "cell_type": "code",
   "execution_count": 14,
   "id": "55c9cd42",
   "metadata": {},
   "outputs": [],
   "source": [
    "from functools import reduce\n",
    "\n",
    "def exponent_evaluation(PP, poly, g):\n",
    "    # Recover the Prime Field\n",
    "    F_p = poly.base_ring()\n",
    "    # Get the Polynomial coefficients. They are given in ascending order\n",
    "    poly_coefs = poly.coefficients()\n",
    "    # Only keep the parameters needed\n",
    "    pp_used = PP[:len(poly_coefs)]  \n",
    "    \n",
    "    return reduce(\n",
    "        lambda a,b: a + (b[0]*b[1]),\n",
    "        zip(poly_coefs, pp_used),\n",
    "        0\n",
    "    )"
   ]
  },
  {
   "cell_type": "code",
   "execution_count": 15,
   "id": "4cd23868",
   "metadata": {},
   "outputs": [
    {
     "data": {
      "text/plain": [
       "29729"
      ]
     },
     "execution_count": 15,
     "metadata": {},
     "output_type": "execute_result"
    }
   ],
   "source": [
    "commitment = exponent_evaluation(PP, msg_poly, g)\n",
    "commitment"
   ]
  },
  {
   "cell_type": "markdown",
   "id": "3d13749c",
   "metadata": {},
   "source": [
    "This is our commitment!\n",
    "\n",
    "### 2.5.3 Opening\n",
    "\n",
    "The Verifier asks the Prover to evaluate the Polynomial at a point $s\\in\\mathbb{F}_p$. So, let's choose this point randomly"
   ]
  },
  {
   "cell_type": "code",
   "execution_count": 16,
   "id": "dbdca0cc",
   "metadata": {},
   "outputs": [
    {
     "name": "stdout",
     "output_type": "stream",
     "text": [
      "The point of evaluation `s` is 32493\n"
     ]
    }
   ],
   "source": [
    "s = F_p.random_element()\n",
    "print(f\"The point of evaluation `s` is {s}\")"
   ]
  },
  {
   "cell_type": "markdown",
   "id": "1db4351f",
   "metadata": {},
   "source": [
    "Now we can evaluate our polynomial on `s`"
   ]
  },
  {
   "cell_type": "code",
   "execution_count": 17,
   "id": "9bf32e75",
   "metadata": {},
   "outputs": [
    {
     "name": "stdout",
     "output_type": "stream",
     "text": [
      "The evaluation is 50946\n"
     ]
    }
   ],
   "source": [
    "poly_eval = msg_poly(s)\n",
    "print(f\"The evaluation is {poly_eval}\")"
   ]
  },
  {
   "cell_type": "markdown",
   "id": "7ef7d514",
   "metadata": {},
   "source": [
    "Next we compute the proof polynomial"
   ]
  },
  {
   "cell_type": "code",
   "execution_count": 18,
   "id": "cabc209d",
   "metadata": {},
   "outputs": [
    {
     "data": {
      "text/plain": [
       "38784*x^19 + 28593*x^18 + 27545*x^17 + 6047*x^16 + 36329*x^15 + 5818*x^14 + 1098*x^13 + 32128*x^12 + 23845*x^11 + 42041*x^10 + 1750*x^9 + 28356*x^8 + 9625*x^7 + 212*x^6 + 21833*x^5 + 23876*x^4 + 9419*x^3 + 9955*x^2 + 44662*x + 508"
      ]
     },
     "execution_count": 18,
     "metadata": {},
     "output_type": "execute_result"
    }
   ],
   "source": [
    "proof_poly = ((msg_poly - poly_eval)/(x - s)).numerator()\n",
    "proof_poly"
   ]
  },
  {
   "cell_type": "markdown",
   "id": "5fa10d16",
   "metadata": {},
   "source": [
    "And the corresponding opening commit"
   ]
  },
  {
   "cell_type": "code",
   "execution_count": 19,
   "id": "6164828b",
   "metadata": {
    "scrolled": false
   },
   "outputs": [
    {
     "data": {
      "text/plain": [
       "11475"
      ]
     },
     "execution_count": 19,
     "metadata": {},
     "output_type": "execute_result"
    }
   ],
   "source": [
    "opening_commit = exponent_evaluation(PP, proof_poly, g)\n",
    "opening_commit"
   ]
  },
  {
   "cell_type": "markdown",
   "id": "a9e1025b",
   "metadata": {},
   "source": [
    "Now we have the opening triplet $\\left(s,\\phi(s),\\mathcal{C}^{\\psi_s(\\alpha)}\\right)$"
   ]
  },
  {
   "cell_type": "code",
   "execution_count": 20,
   "id": "c5d14614",
   "metadata": {
    "scrolled": true
   },
   "outputs": [
    {
     "data": {
      "text/plain": [
       "(32493, 50946, 11475)"
      ]
     },
     "execution_count": 20,
     "metadata": {},
     "output_type": "execute_result"
    }
   ],
   "source": [
    "opening_triplet = (s, poly_eval, opening_commit)\n",
    "opening_triplet"
   ]
  },
  {
   "cell_type": "markdown",
   "id": "73c534c5",
   "metadata": {},
   "source": [
    "### 2.5.4 Verification\n",
    "\n",
    "Now the Verifier has to check if $\\phi(s)$ is indeed evaluating $\\phi(x)$ on $s$"
   ]
  },
  {
   "cell_type": "code",
   "execution_count": 21,
   "id": "256e982c",
   "metadata": {},
   "outputs": [
    {
     "data": {
      "text/plain": [
       "True"
      ]
     },
     "execution_count": 21,
     "metadata": {},
     "output_type": "execute_result"
    }
   ],
   "source": [
    "e(commitment, g) == (e(opening_commit, PP[1] - s*g) + (poly_eval*e(g,g)))"
   ]
  },
  {
   "cell_type": "markdown",
   "id": "44ab81b8",
   "metadata": {},
   "source": [
    "### 2.5.5 What if $\\alpha$ is leaked?\n",
    "In that case, we could forge a polynomial that passes the proof without knowing the message at all...\n",
    "In fact, we have not deleted `alpha`, so we can actually act as bad actors and forge said polynomial!"
   ]
  },
  {
   "cell_type": "code",
   "execution_count": 22,
   "id": "7c80a808",
   "metadata": {},
   "outputs": [
    {
     "name": "stdout",
     "output_type": "stream",
     "text": [
      "Oh no, `alpha` leaked: 12816\n"
     ]
    }
   ],
   "source": [
    "print(f\"Oh no, `alpha` leaked: {alpha}\")"
   ]
  },
  {
   "cell_type": "markdown",
   "id": "1902514d",
   "metadata": {},
   "source": [
    "So we know the original commitment:"
   ]
  },
  {
   "cell_type": "code",
   "execution_count": 23,
   "id": "bc51b35b",
   "metadata": {},
   "outputs": [
    {
     "name": "stdout",
     "output_type": "stream",
     "text": [
      "Original commitment: 29729\n"
     ]
    }
   ],
   "source": [
    "print(f\"Original commitment: {commitment}\")"
   ]
  },
  {
   "cell_type": "markdown",
   "id": "42ede3ed",
   "metadata": {},
   "source": [
    "Since the commitment is $g^{\\phi(\\alpha)}$, and $g$ is publicly known, we can also know a value for $\\phi(\\alpha)$"
   ]
  },
  {
   "cell_type": "code",
   "execution_count": 24,
   "id": "3f186966",
   "metadata": {
    "scrolled": true
   },
   "outputs": [
    {
     "data": {
      "text/plain": [
       "40538"
      ]
     },
     "execution_count": 24,
     "metadata": {},
     "output_type": "execute_result"
    }
   ],
   "source": [
    "commitment/g"
   ]
  },
  {
   "cell_type": "markdown",
   "id": "24ad812f",
   "metadata": {},
   "source": [
    "Now we just need a polynomial that passes through $(\\alpha, \\phi(\\alpha))$... Just to make it nice, let's compute it as a quadratic function"
   ]
  },
  {
   "cell_type": "code",
   "execution_count": 25,
   "id": "91eb13a9",
   "metadata": {},
   "outputs": [],
   "source": [
    "def make_faux_poly(F_p_X, alpha, phi_alpha, s, phi_s):\n",
    "    xs = [alpha, s]\n",
    "    ys = [phi_alpha, phi_s]\n",
    "\n",
    "    F_p = F_p_X.base_ring()\n",
    "\n",
    "    while (len(xs) != 3):\n",
    "        x = F_p.random_element()\n",
    "        if not (x in xs):\n",
    "            xs.append(x)\n",
    "            ys.append(F_p.random_element())\n",
    "    return F_p_X.lagrange_polynomial(zip(xs,ys))"
   ]
  },
  {
   "cell_type": "code",
   "execution_count": 26,
   "id": "28b4b5bf",
   "metadata": {
    "scrolled": true
   },
   "outputs": [
    {
     "data": {
      "text/plain": [
       "41411*x^2 + 11139*x + 44042"
      ]
     },
     "execution_count": 26,
     "metadata": {},
     "output_type": "execute_result"
    }
   ],
   "source": [
    "faux_poly = make_faux_poly(F_p_X, alpha, commitment/g, s, poly_eval)\n",
    "faux_poly"
   ]
  },
  {
   "cell_type": "markdown",
   "id": "74fbdf69",
   "metadata": {},
   "source": [
    "Let's run the protocol with this faux polynomial that generates an identical commitment"
   ]
  },
  {
   "cell_type": "code",
   "execution_count": 27,
   "id": "535862ac",
   "metadata": {
    "scrolled": true
   },
   "outputs": [
    {
     "name": "stdout",
     "output_type": "stream",
     "text": [
      "The evaluation of s on the faux polynomial is 50946\n",
      "The faux proof polynomial 41411*x + 30627\n",
      "The faux opening triplet is (32493, 50946, 11475)\n",
      "\n",
      "Did we deceive the system and verified the faux polynomial 41411*x^2 + 11139*x + 44042\n",
      "as if it was the true polynomial 38784*x^20 + 29502*x^19 + 27814*x^18 + 15919*x^17 + 4780*x^16 + 35151*x^15 + 16478*x^14 + 40979*x^13 + 24598*x^12 + 21339*x^11 + 50472*x^10 + 6735*x^9 + 8685*x^8 + 9664*x^7 + 13815*x^6 + 14359*x^5 + 8374*x^4 + 37855*x^3 + 11600*x^2 + 18403*x + 26889?\n",
      "\n",
      "True!!\n",
      "\n"
     ]
    }
   ],
   "source": [
    "faux_poly_eval = faux_poly(s)\n",
    "print(f\"The evaluation of s on the faux polynomial is {faux_poly_eval}\")\n",
    "\n",
    "faux_proof_poly = ((faux_poly - faux_poly_eval)/(x - s)).numerator()\n",
    "print(f\"The faux proof polynomial {faux_proof_poly}\")\n",
    "\n",
    "faux_opening_commit = exponent_evaluation(PP, proof_poly, g)\n",
    "opening_triplet = (s, faux_poly_eval, faux_opening_commit)\n",
    "print(f\"The faux opening triplet is {opening_triplet}\")\n",
    "\n",
    "faux_verification = e(commitment, g) == (e(faux_opening_commit, PP[1] - s*g) + (faux_poly_eval*e(g,g)))\n",
    "print(\n",
    "f\"\"\"\n",
    "Did we deceive the system and verified the faux polynomial {faux_poly}\n",
    "as if it was the true polynomial {msg_poly}?\\n\\n{faux_verification}!!\n",
    "\"\"\"\n",
    ")"
   ]
  },
  {
   "cell_type": "markdown",
   "id": "6edd0261",
   "metadata": {},
   "source": [
    "# 3. Closing remarks\n",
    "\n",
    "## 3.1 Recovering the message from the polynomial?\n",
    "\n",
    "Did you wonder how can we recover the original message from the polynomial?"
   ]
  },
  {
   "cell_type": "code",
   "execution_count": 28,
   "id": "8835944a",
   "metadata": {},
   "outputs": [],
   "source": [
    "def decode_poly(poly):\n",
    "    images = []\n",
    "    for i in range(1, poly.degree() + 2):\n",
    "        images.append(poly(i))\n",
    "\n",
    "    rs = RSCodec(10)\n",
    "    \n",
    "    return bytes(rs.decode(images)[0]).decode(\"utf-8\")"
   ]
  },
  {
   "cell_type": "code",
   "execution_count": 29,
   "id": "a66dec00",
   "metadata": {},
   "outputs": [
    {
     "data": {
      "text/plain": [
       "'Hello Zepp!'"
      ]
     },
     "execution_count": 29,
     "metadata": {},
     "output_type": "execute_result"
    }
   ],
   "source": [
    "decode_poly(msg_poly)"
   ]
  },
  {
   "cell_type": "markdown",
   "id": "4f948732",
   "metadata": {},
   "source": [
    "Ever wondered what our faux polynomial was encoding?"
   ]
  },
  {
   "cell_type": "code",
   "execution_count": 30,
   "id": "b458d728",
   "metadata": {},
   "outputs": [
    {
     "name": "stdout",
     "output_type": "stream",
     "text": [
      "Exception!\n",
      "Encoded data makes no sense as a reed-solomon encoding\n"
     ]
    }
   ],
   "source": [
    "try:\n",
    "    print(decode_poly(faux_poly))\n",
    "except:\n",
    "    print(\"Exception!\\nEncoded data makes no sense as a reed-solomon encoding\")"
   ]
  },
  {
   "cell_type": "markdown",
   "id": "a1fa64d4",
   "metadata": {},
   "source": [
    "## 3.2 Abstraction!\n",
    "\n",
    "Let's abstract all of this into a class"
   ]
  },
  {
   "cell_type": "code",
   "execution_count": 31,
   "id": "bab7a9e4",
   "metadata": {},
   "outputs": [],
   "source": [
    "from KZG import KZG"
   ]
  },
  {
   "cell_type": "markdown",
   "id": "ac221850",
   "metadata": {},
   "source": [
    "Cool! Let's do all of the previous work again"
   ]
  },
  {
   "cell_type": "code",
   "execution_count": 32,
   "id": "2601472e",
   "metadata": {
    "scrolled": true
   },
   "outputs": [
    {
     "data": {
      "text/plain": [
       "KZG commitment class with Finite Field of size 44939 whose generator is 2\n",
       "Toxic waste has NOT been deleted. Proceed with caution"
      ]
     },
     "execution_count": 32,
     "metadata": {},
     "output_type": "execute_result"
    }
   ],
   "source": [
    "# Initialize the helper class\n",
    "kzg = KZG(leak=True)\n",
    "kzg"
   ]
  },
  {
   "cell_type": "markdown",
   "id": "f7783762",
   "metadata": {},
   "source": [
    "Let's create the polynomial encoding our message `\"Hello Zepp\"` and commit it to the KZG proving scheme"
   ]
  },
  {
   "cell_type": "code",
   "execution_count": 33,
   "id": "06f38f86",
   "metadata": {},
   "outputs": [
    {
     "data": {
      "text/plain": [
       "7170"
      ]
     },
     "execution_count": 33,
     "metadata": {},
     "output_type": "execute_result"
    }
   ],
   "source": [
    "msg = message_as_coords(\"Hello Zepp!\")\n",
    "msg_poly_again = kzg.polynomial_ring()[0].lagrange_polynomial(msg)\n",
    "commitment_again = kzg.make_commitment(msg_poly_again)\n",
    "commitment_again"
   ]
  },
  {
   "cell_type": "markdown",
   "id": "7db8d9c6",
   "metadata": {},
   "source": [
    "Let's create now the opening triplet. We'll choose an arbitrary `s`"
   ]
  },
  {
   "cell_type": "code",
   "execution_count": 34,
   "id": "78a81e68",
   "metadata": {},
   "outputs": [
    {
     "data": {
      "text/plain": [
       "26764"
      ]
     },
     "execution_count": 34,
     "metadata": {},
     "output_type": "execute_result"
    }
   ],
   "source": [
    "s_again = kzg.F_p.random_element()\n",
    "s_again"
   ]
  },
  {
   "cell_type": "code",
   "execution_count": 35,
   "id": "69bb6c40",
   "metadata": {},
   "outputs": [
    {
     "data": {
      "text/plain": [
       "(26764, 28067, 36761)"
      ]
     },
     "execution_count": 35,
     "metadata": {},
     "output_type": "execute_result"
    }
   ],
   "source": [
    "opening_triplet_again = kzg.make_opening_triplet(s_again, msg_poly_again)\n",
    "opening_triplet_again"
   ]
  },
  {
   "cell_type": "markdown",
   "id": "845e3bfc",
   "metadata": {},
   "source": [
    "Let's verify it!"
   ]
  },
  {
   "cell_type": "code",
   "execution_count": 36,
   "id": "930f0055",
   "metadata": {
    "scrolled": true
   },
   "outputs": [
    {
     "data": {
      "text/plain": [
       "True"
      ]
     },
     "execution_count": 36,
     "metadata": {},
     "output_type": "execute_result"
    }
   ],
   "source": [
    "kzg.verify(commitment_again, opening_triplet_again)"
   ]
  },
  {
   "cell_type": "markdown",
   "id": "668ed424",
   "metadata": {},
   "source": [
    "Let's forge a proof again"
   ]
  },
  {
   "cell_type": "code",
   "execution_count": 37,
   "id": "3cecda42",
   "metadata": {},
   "outputs": [
    {
     "data": {
      "text/plain": [
       "18795*x^2 + 30195*x + 12801"
      ]
     },
     "execution_count": 37,
     "metadata": {},
     "output_type": "execute_result"
    }
   ],
   "source": [
    "faux_poly_again = make_faux_poly(\n",
    "    kzg.polynomial_ring()[0],\n",
    "    kzg.alpha,\n",
    "    commitment_again/kzg.g,\n",
    "    *opening_triplet_again[:2]\n",
    ")\n",
    "faux_poly_again"
   ]
  },
  {
   "cell_type": "code",
   "execution_count": 38,
   "id": "320c85db",
   "metadata": {
    "scrolled": true
   },
   "outputs": [
    {
     "data": {
      "text/plain": [
       "7170"
      ]
     },
     "execution_count": 38,
     "metadata": {},
     "output_type": "execute_result"
    }
   ],
   "source": [
    "faux_commitment_again = kzg.make_commitment(faux_poly_again)\n",
    "faux_commitment_again"
   ]
  },
  {
   "cell_type": "code",
   "execution_count": 39,
   "id": "a30043a5",
   "metadata": {},
   "outputs": [
    {
     "data": {
      "text/plain": [
       "(26764, 28067, 36761)"
      ]
     },
     "execution_count": 39,
     "metadata": {},
     "output_type": "execute_result"
    }
   ],
   "source": [
    "faux_opening_triplet = kzg.make_opening_triplet(s_again, faux_poly_again)\n",
    "faux_opening_triplet"
   ]
  },
  {
   "cell_type": "code",
   "execution_count": 40,
   "id": "7fe8d97d",
   "metadata": {},
   "outputs": [
    {
     "data": {
      "text/plain": [
       "True"
      ]
     },
     "execution_count": 40,
     "metadata": {},
     "output_type": "execute_result"
    }
   ],
   "source": [
    "kzg.verify(faux_commitment_again, faux_opening_triplet)"
   ]
  }
 ],
 "metadata": {
  "kernelspec": {
   "display_name": "SageMath 9.5",
   "language": "sage",
   "name": "sagemath"
  },
  "language_info": {
   "codemirror_mode": {
    "name": "ipython",
    "version": 3
   },
   "file_extension": ".py",
   "mimetype": "text/x-python",
   "name": "python",
   "nbconvert_exporter": "python",
   "pygments_lexer": "ipython3",
   "version": "3.10.12"
  }
 },
 "nbformat": 4,
 "nbformat_minor": 5
}
