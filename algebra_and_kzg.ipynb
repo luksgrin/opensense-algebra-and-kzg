{
 "cells": [
  {
   "cell_type": "markdown",
   "id": "3b3a94a3",
   "metadata": {},
   "source": [
    "# A quick insight on Algebra and KZG Commitments\n",
    "\n",
    "## Contents\n",
    "\n",
    "1. [Preliminaries](#1.-Preliminaries)\n",
    "    - 1.1 [Number Sets](#1.1-Number-Sets)\n",
    "    - 1.2 [Prime Numbers](#1.2-Prime-Numbers)\n",
    "    - 1.3 [Coprime Integers](#1.3-Coprime-Integers)\n",
    "    - 1.4 [Modular aritmethic](#1.4-Modular-aritmethic)\n",
    "    - 1.5 [Basic Algebraic Structures](#1.5-Basic-Algebraic-Structures)\n",
    "        - 1.5.1 [Abelian Groups](#1.5.1-Abelian-Groups)\n",
    "            - [Finite Groups, Cyclic Groups and Generators](#Finite-Groups,-Cyclic-Groups-and-Generators)\n",
    "            - [The Exponential Map](#The-Exponential-Map)\n",
    "            - [Pairings](#Pairings)\n",
    "        - 1.5.2 [Rings](#1.5.2-Rings)\n",
    "        - 1.5.3 Fields & Galois Fields\n",
    "    - 1.6 Cryptographic Groups & Computational Hardness Assumptions\n",
    "    - 1.7 Polynomials\n",
    "2. [KZG Commitments](#2.-KZG-Commitments)\n",
    "    - 2.1 The Setup Phase\n",
    "    - 2.2 The Commitment Phase\n",
    "    - 2.3 The Opening Phase\n",
    "    - 2.4 The Verification Phase\n",
    "    - 2.5 [A `sagemath` Implementation](#2.5-A-sagemath-Implementation)\n",
    "3. Closing remarks\n",
    "    - 3.1 Recovering the message from the polynomial?\n",
    "    - 3.2 Abstraction!\n",
    "\n",
    "# 1. Preliminaries\n",
    "\n",
    "## 1.1 Number Sets\n",
    "\n",
    "## 1.2 Prime Numbers\n",
    "\n",
    "## 1.3 Coprime Integers\n",
    "\n",
    "## 1.4 Modular aritmethic\n",
    "\n",
    "## 1.5 Basic Algebraic Structures\n",
    "\n",
    "### 1.5.1 Abelian Groups\n",
    "\n",
    "#### Finite Groups, Cyclic Groups and Generators\n",
    "\n",
    "#### The Exponential Map\n",
    "\n",
    "#### Pairings\n",
    "\n",
    "### 1.5.2 Rings\n",
    "\n",
    "### 1.5.3 Fields & Galois Fields\n",
    "\n",
    "## 1.6 Cryptographic groups & computational hardness assumptions\n",
    "\n",
    "## 1.7 Polynomials\n",
    "\n",
    "\n",
    "# 2. KZG Commitments\n",
    "\n",
    "## 2.1 The Setup Phase\n",
    "\n",
    "## 2.2 The Commitment Phase\n",
    "\n",
    "## 2.3 The Opening Phase\n",
    "\n",
    "## 2.4. The Verification Phase\n",
    "\n",
    "## 2.5 A `sagemath` Implementation\n",
    "\n",
    "Let's replicate (and implement) the previous steps one by one.\n",
    "\n",
    "> Remember, we want to prove that we know a Polynomial $\\phi(x) = a_0 + a_1x + a_2x^2+\\dots+a_tx^t$, where $\\phi(x)\\in\\mathbb{F}_p[x]$.\n",
    "\n",
    "### 2.5.1 Setup\n",
    "\n",
    "First we'll have to define a couple variables:\n",
    "- $p$ prime which will aid us to build our Prime Field $\\mathbb{F}_p$\n",
    "- $t$ the maximum degree of the polynomials in our Polynomial Field $\\mathbb{F}_p[x]$, so that $t < p$\n",
    "\n",
    "Remember that our prime needs $k$ bits of security! So we'll have to define a function to get a safe random prime number"
   ]
  },
  {
   "cell_type": "code",
   "execution_count": 1,
   "id": "0479ad61",
   "metadata": {},
   "outputs": [
    {
     "name": "stdout",
     "output_type": "stream",
     "text": [
      "Our safe random prime is 39779\n"
     ]
    }
   ],
   "source": [
    "def safe_random_prime(k):\n",
    "    \"\"\"Generate a safe random prime.\n",
    "    Code taken from\n",
    "    https://ask.sagemath.org/question/44765/randomly-generate-a-safe-prime-of-given-length/?answer=44766#post-id-44766\n",
    "    \"\"\"\n",
    "    while true:\n",
    "        p = random_prime(2^k - 1, false, 2^(k - 1))\n",
    "        if ZZ((p - 1)/2).is_prime():\n",
    "            return p\n",
    "\n",
    "k = 16 # 16 bits of security. My laptop is not beefy and I want my public parameters to be computed in a matter of seconds\n",
    "p = safe_random_prime(k)\n",
    "print(f\"Our safe random prime is {p}\")"
   ]
  },
  {
   "cell_type": "markdown",
   "id": "ae2ca891",
   "metadata": {},
   "source": [
    "Let's define the Prime Field $\\mathbb{F}_p$"
   ]
  },
  {
   "cell_type": "code",
   "execution_count": 2,
   "id": "f275b41f",
   "metadata": {},
   "outputs": [
    {
     "name": "stdout",
     "output_type": "stream",
     "text": [
      "Finite Field of size 39779\n"
     ]
    }
   ],
   "source": [
    "F_p = GF(p)\n",
    "print(F_p)"
   ]
  },
  {
   "cell_type": "markdown",
   "id": "2e63d7ce",
   "metadata": {},
   "source": [
    "Let's generate a random $t$ so that $t < p$"
   ]
  },
  {
   "cell_type": "code",
   "execution_count": 3,
   "id": "9d9ec5a3",
   "metadata": {},
   "outputs": [
    {
     "name": "stdout",
     "output_type": "stream",
     "text": [
      "The maximum degree is 32983\n"
     ]
    }
   ],
   "source": [
    "t = 0\n",
    "\n",
    "while t == 0:\n",
    "    t = F_p.random_element()\n",
    "print(f\"The maximum degree is {t}\")"
   ]
  },
  {
   "cell_type": "markdown",
   "id": "cefb63a2",
   "metadata": {},
   "source": [
    "Now, let's get the generator $g$ of the Prime Field $\\mathbb{F}_p$"
   ]
  },
  {
   "cell_type": "code",
   "execution_count": 4,
   "id": "1a50efb5",
   "metadata": {},
   "outputs": [
    {
     "name": "stdout",
     "output_type": "stream",
     "text": [
      "The generator is 2\n"
     ]
    }
   ],
   "source": [
    "g = F_p.multiplicative_generator()\n",
    "print(f\"The generator is {g}\")"
   ]
  },
  {
   "cell_type": "markdown",
   "id": "960073d7",
   "metadata": {},
   "source": [
    "Next, we have to define a pairing $e:\\mathbb{G}\\times\\mathbb{G}\\rightarrow\\mathbb{G}_T$. We will define the simple pairing\n",
    "$$\n",
    "e(g_1,g_2)\\mapsto g_1\\cdot g_2 \\quad\\left(\\text{mod}~p\\right)\n",
    "$$"
   ]
  },
  {
   "cell_type": "code",
   "execution_count": 5,
   "id": "103eee66",
   "metadata": {},
   "outputs": [],
   "source": [
    "def e(g1, g2):\n",
    "    return F_p.prod((g1, g2))"
   ]
  },
  {
   "cell_type": "markdown",
   "id": "6e6a3093",
   "metadata": {},
   "source": [
    "We may also check that this pairing\n",
    "- is bilinear:\n",
    "$$\n",
    "e(g_1^a,g_2^b)=e(g_1^{ab},g_2)=e(g_1,g_2^{ab})=e(g_1,g_2)^{ab}\n",
    "$$\n",
    "    see:\n",
    "$$\n",
    "ag_1\\cdot bg_2 = abg_1\\cdot g_2 = g_1\\cdot abg_2 = ab(g_1\\cdot g_2) \\quad\\left(\\text{mod}~p\\right)\n",
    "$$ \n",
    "- non-degenerate\n",
    "$$\n",
    "e(g,g)\\neq\\boldsymbol{1}\n",
    "$$\n",
    "    see:\n",
    "$$\n",
    "2\\cdot2 = 4 \\neq 0 \\quad\\left(\\text{mod}~p\\right)\n",
    "$$"
   ]
  },
  {
   "cell_type": "markdown",
   "id": "b657166c",
   "metadata": {},
   "source": [
    "At this point, the trusted party (us, haha) retrieves a random (and secret) $\\alpha\\in\\mathbb{F}_p$"
   ]
  },
  {
   "cell_type": "code",
   "execution_count": 6,
   "id": "1786adfa",
   "metadata": {
    "scrolled": true
   },
   "outputs": [],
   "source": [
    "alpha = F_p.random_element()"
   ]
  },
  {
   "cell_type": "markdown",
   "id": "74c349bc",
   "metadata": {},
   "source": [
    "This allows computing the Public Parameters `PP`"
   ]
  },
  {
   "cell_type": "code",
   "execution_count": 7,
   "id": "8230bf1c",
   "metadata": {},
   "outputs": [],
   "source": [
    "def compute_public_parameters(F_p, alpha, t):\n",
    "\n",
    "    PP = []\n",
    "\n",
    "    accumulated = 1\n",
    "    for i in range(t + 1):\n",
    "        PP.append(F_p.prod((\n",
    "            accumulated, g\n",
    "        )))\n",
    "        accumulated = F_p.prod((accumulated, alpha))\n",
    "    return PP"
   ]
  },
  {
   "cell_type": "code",
   "execution_count": 8,
   "id": "b35ef501",
   "metadata": {},
   "outputs": [
    {
     "name": "stdout",
     "output_type": "stream",
     "text": [
      "The first elements of the public parameters are: [2, 33754, 30978, 309, 3944, 12621, 27851, 12663, 20663, 26737, 27152, 30003, 13740, 18189, 1210, 14543, 5781, 27829, 39159, 37916, 23338, 23547, 10509, 25611, 38012, 12591, 38668, 25341, 16028, 7356, 36732, 10028, 22690, 26476, 37724, 5053, 33084, 20624, 4998, 19766, 4088, 16390, 30643, 34911, 26178, 20532, 3695, 26822, 29653, 33861, 6983, 26693, 586, 24730, 6942, 10979, 2001, 38285, 5648, 10812, 7851, 37257, 39515, 39499, 8141, 38770, 36298, 4746, 23115, 38981, 17235, 11047, 35825, 17504, 16154, 25571, 39175, 29495, 32488, 26019, 2282, 7242, 22146, 34337, 5077, 563, 34349, 8706, 27315, 36203, 32370, 23483, 4414, 28790, 28124, 5720, 32586, 9247, 8602, 22383]\n"
     ]
    }
   ],
   "source": [
    "PP = compute_public_parameters(F_p, alpha, t)\n",
    "print(\"The first elements of the public parameters are: {}\".format(PP[:100]))"
   ]
  },
  {
   "cell_type": "markdown",
   "id": "72ceff4b",
   "metadata": {},
   "source": [
    "Remember, once we have the public parameters, **we must delete `alpha`**.\n",
    "_We are not going to do it though, for illustrative purposes!_"
   ]
  },
  {
   "cell_type": "markdown",
   "id": "0a9c05d3",
   "metadata": {},
   "source": [
    "### 2.5.2 Commitment\n",
    "\n",
    "It's time to do our commitment! In order to make it as applied as possible, let's commit a message. To do that though, we will some auxiliary code to help us!\n",
    "\n",
    "#### Reed Solomon Codes\n",
    "\n",
    "We're going to use Reed-Solomon encoding to transform our messages into a list of integers"
   ]
  },
  {
   "cell_type": "code",
   "execution_count": 9,
   "id": "b4478619",
   "metadata": {},
   "outputs": [
    {
     "data": {
      "text/plain": [
       "[120, 100]"
      ]
     },
     "execution_count": 9,
     "metadata": {},
     "output_type": "execute_result"
    }
   ],
   "source": [
    "list(bytes(\"xd\", encoding=\"utf-8\"))"
   ]
  },
  {
   "cell_type": "code",
   "execution_count": 10,
   "id": "9a8d81a2",
   "metadata": {},
   "outputs": [],
   "source": [
    "from reedsolo import RSCodec\n",
    "\n",
    "def reed_solomon_encode_string(input_string):\n",
    "\n",
    "    # Initialize the Reed-Solomon encoder/decoder with a specific error correction level\n",
    "    rs = RSCodec(10)  # You can adjust the error correction level as needed\n",
    "\n",
    "    # Encode the input string\n",
    "    encoded_bytes = rs.encode(input_string.encode())\n",
    "\n",
    "    # Convert the encoded bytes to a list of integers\n",
    "    return list(encoded_bytes)"
   ]
  },
  {
   "cell_type": "markdown",
   "id": "1c91275f",
   "metadata": {},
   "source": [
    "We will also need to transform this into a list of tuples, which will contain coordinates"
   ]
  },
  {
   "cell_type": "code",
   "execution_count": 11,
   "id": "a19760ec",
   "metadata": {},
   "outputs": [],
   "source": [
    "def message_as_coords(input_string):\n",
    "    y = reed_solomon_encode_string(input_string)\n",
    "    x = range(1, len(y) + 1)\n",
    "    return list(zip(x, y))"
   ]
  },
  {
   "cell_type": "markdown",
   "id": "7d74b186",
   "metadata": {},
   "source": [
    "Let's encode a message!"
   ]
  },
  {
   "cell_type": "code",
   "execution_count": 12,
   "id": "7586ebe0",
   "metadata": {
    "scrolled": true
   },
   "outputs": [
    {
     "name": "stdout",
     "output_type": "stream",
     "text": [
      "[(1, 72), (2, 101), (3, 108), (4, 108), (5, 111), (6, 32), (7, 90), (8, 101), (9, 112), (10, 112), (11, 33), (12, 25), (13, 255), (14, 128), (15, 142), (16, 165), (17, 163), (18, 57), (19, 193), (20, 169), (21, 195)]\n"
     ]
    }
   ],
   "source": [
    "msg = message_as_coords(\"Hello Zepp!\")\n",
    "print(msg)"
   ]
  },
  {
   "cell_type": "markdown",
   "id": "2daa2aae",
   "metadata": {},
   "source": [
    "#### Interpolating Polynomial\n",
    "Cool! Let's create our Polynomial Ring $\\mathbb{F}_p[x]$"
   ]
  },
  {
   "cell_type": "code",
   "execution_count": 13,
   "id": "8ef0d862",
   "metadata": {},
   "outputs": [
    {
     "data": {
      "text/plain": [
       "Univariate Polynomial Ring in x over Finite Field of size 39779"
      ]
     },
     "execution_count": 13,
     "metadata": {},
     "output_type": "execute_result"
    }
   ],
   "source": [
    "F_p_X.<x> = PolynomialRing(F_p)\n",
    "F_p_X"
   ]
  },
  {
   "cell_type": "markdown",
   "id": "6eaab670",
   "metadata": {},
   "source": [
    "And get an interpolating polynomial over our coordinates (our message)"
   ]
  },
  {
   "cell_type": "code",
   "execution_count": 14,
   "id": "421ea1b7",
   "metadata": {},
   "outputs": [
    {
     "data": {
      "text/plain": [
       "20307*x^20 + 2518*x^19 + 1520*x^18 + 34792*x^17 + 29777*x^16 + 25961*x^15 + 34636*x^14 + 11875*x^13 + 13526*x^12 + 34297*x^11 + 29923*x^10 + 31332*x^9 + 6401*x^8 + 19111*x^7 + 20394*x^6 + 37056*x^5 + 6861*x^4 + 24873*x^3 + 11595*x^2 + 4072*x + 36814"
      ]
     },
     "execution_count": 14,
     "metadata": {},
     "output_type": "execute_result"
    }
   ],
   "source": [
    "msg_poly = F_p_X.lagrange_polynomial(msg)\n",
    "msg_poly"
   ]
  },
  {
   "cell_type": "markdown",
   "id": "e4822baf",
   "metadata": {},
   "source": [
    "Since for $n$ points $(x,y)$ there exists one unique polynomial of degree $n-1$ that passes through all of them, we basically converted `\"Hello Zep\"` into a polynomial!\n",
    "\n",
    "---\n",
    "\n",
    "Okay, now we have the polynomial that we want to commit. We will need to evaluate the polynomial at $\\alpha$. We will \"_evaluate it on the exponent_\". We can write a function for that"
   ]
  },
  {
   "cell_type": "code",
   "execution_count": 15,
   "id": "55c9cd42",
   "metadata": {},
   "outputs": [],
   "source": [
    "from functools import reduce\n",
    "\n",
    "def exponent_evaluation(PP, poly, g):\n",
    "    # Recover the Prime Field\n",
    "    F_p = poly.base_ring()\n",
    "    # Get the Polynomial coefficients. They are given in ascending order\n",
    "    poly_coefs = poly.coefficients()\n",
    "    # Only keep the parameters needed\n",
    "    pp_used = PP[:len(poly_coefs)]  \n",
    "    \n",
    "    return reduce(\n",
    "        lambda a,b: a + (b[0]*b[1]),\n",
    "        zip(poly_coefs, pp_used),\n",
    "        0\n",
    "    )"
   ]
  },
  {
   "cell_type": "code",
   "execution_count": 16,
   "id": "4cd23868",
   "metadata": {},
   "outputs": [
    {
     "data": {
      "text/plain": [
       "16202"
      ]
     },
     "execution_count": 16,
     "metadata": {},
     "output_type": "execute_result"
    }
   ],
   "source": [
    "commitment = exponent_evaluation(PP, msg_poly, g)\n",
    "commitment"
   ]
  },
  {
   "cell_type": "markdown",
   "id": "3d13749c",
   "metadata": {},
   "source": [
    "This is our commitment!\n",
    "\n",
    "### 2.5.3 Opening\n",
    "\n",
    "The Verifier asks the Prover to evaluate the Polynomial at a point $i\\in\\mathbb{F}_p$. So, let's choose this point randomly"
   ]
  },
  {
   "cell_type": "code",
   "execution_count": 17,
   "id": "dbdca0cc",
   "metadata": {},
   "outputs": [
    {
     "name": "stdout",
     "output_type": "stream",
     "text": [
      "The point of evaluation `i` is 1220\n"
     ]
    }
   ],
   "source": [
    "i = F_p.random_element()\n",
    "print(f\"The point of evaluation `i` is {i}\")"
   ]
  },
  {
   "cell_type": "markdown",
   "id": "1db4351f",
   "metadata": {},
   "source": [
    "Now we can evaluate our polynomial on `i`"
   ]
  },
  {
   "cell_type": "code",
   "execution_count": 18,
   "id": "9bf32e75",
   "metadata": {},
   "outputs": [
    {
     "name": "stdout",
     "output_type": "stream",
     "text": [
      "The evaluation is 10371\n"
     ]
    }
   ],
   "source": [
    "poly_eval = msg_poly(i)\n",
    "print(f\"The evaluation is {poly_eval}\")"
   ]
  },
  {
   "cell_type": "markdown",
   "id": "7ef7d514",
   "metadata": {},
   "source": [
    "Next we compute the proof polynomial"
   ]
  },
  {
   "cell_type": "code",
   "execution_count": 19,
   "id": "cabc209d",
   "metadata": {},
   "outputs": [
    {
     "data": {
      "text/plain": [
       "20307*x^19 + 34520*x^18 + 29738*x^17 + 36704*x^16 + 17503*x^15 + 18298*x^14 + 2398*x^13 + 33568*x^12 + 33895*x^11 + 16037*x^10 + 23795*x^9 + 22562*x^8 + 4973*x^7 + 39763*x^6 + 874*x^5 + 29303*x^4 + 34979*x^3 + 16386*x^2 + 33457*x + 8358"
      ]
     },
     "execution_count": 19,
     "metadata": {},
     "output_type": "execute_result"
    }
   ],
   "source": [
    "proof_poly = ((msg_poly - poly_eval)/(x - i)).numerator()\n",
    "proof_poly"
   ]
  },
  {
   "cell_type": "markdown",
   "id": "5fa10d16",
   "metadata": {},
   "source": [
    "And the corresponding opening commit"
   ]
  },
  {
   "cell_type": "code",
   "execution_count": 20,
   "id": "6164828b",
   "metadata": {
    "scrolled": false
   },
   "outputs": [
    {
     "data": {
      "text/plain": [
       "27985"
      ]
     },
     "execution_count": 20,
     "metadata": {},
     "output_type": "execute_result"
    }
   ],
   "source": [
    "opening_commit = exponent_evaluation(PP, proof_poly, g)\n",
    "opening_commit"
   ]
  },
  {
   "cell_type": "markdown",
   "id": "a9e1025b",
   "metadata": {},
   "source": [
    "Now we have the opening triplet $\\left(i,\\phi(i),\\mathcal{C}^{\\psi_i(\\alpha)}\\right)$"
   ]
  },
  {
   "cell_type": "code",
   "execution_count": 21,
   "id": "c5d14614",
   "metadata": {
    "scrolled": true
   },
   "outputs": [
    {
     "data": {
      "text/plain": [
       "(1220, 10371, 27985)"
      ]
     },
     "execution_count": 21,
     "metadata": {},
     "output_type": "execute_result"
    }
   ],
   "source": [
    "opening_triplet = (i, poly_eval, opening_commit)\n",
    "opening_triplet"
   ]
  },
  {
   "cell_type": "markdown",
   "id": "73c534c5",
   "metadata": {},
   "source": [
    "### 2.5.4 Verification\n",
    "\n",
    "Now the Verifier has to check if $\\phi(i)$ is indeed evaluating $\\phi(x)$ on $i$"
   ]
  },
  {
   "cell_type": "code",
   "execution_count": 22,
   "id": "256e982c",
   "metadata": {},
   "outputs": [
    {
     "data": {
      "text/plain": [
       "True"
      ]
     },
     "execution_count": 22,
     "metadata": {},
     "output_type": "execute_result"
    }
   ],
   "source": [
    "e(commitment, g) == (e(opening_commit, PP[1] - i*g) + (poly_eval*e(g,g)))"
   ]
  },
  {
   "cell_type": "markdown",
   "id": "44ab81b8",
   "metadata": {},
   "source": [
    "### 2.5.5 What if $\\alpha$ is leaked?\n",
    "In that case, we could forge a polynomial that passes the proof without knowing the message at all...\n",
    "In fact, we have not deleted `alpha`, so we can actually act as bad actors and forge said polynomial!"
   ]
  },
  {
   "cell_type": "code",
   "execution_count": 23,
   "id": "7c80a808",
   "metadata": {},
   "outputs": [
    {
     "name": "stdout",
     "output_type": "stream",
     "text": [
      "Oh no, `alpha` leaked: 16877\n"
     ]
    }
   ],
   "source": [
    "print(f\"Oh no, `alpha` leaked: {alpha}\")"
   ]
  },
  {
   "cell_type": "markdown",
   "id": "1902514d",
   "metadata": {},
   "source": [
    "So we know the original commitment:"
   ]
  },
  {
   "cell_type": "code",
   "execution_count": 24,
   "id": "bc51b35b",
   "metadata": {},
   "outputs": [
    {
     "name": "stdout",
     "output_type": "stream",
     "text": [
      "Original commitment: 16202\n"
     ]
    }
   ],
   "source": [
    "print(f\"Original commitment: {commitment}\")"
   ]
  },
  {
   "cell_type": "markdown",
   "id": "42ede3ed",
   "metadata": {},
   "source": [
    "Since the commitment is $g^{\\phi(\\alpha)}$, and $g$ is publicly known, we can also know a value for $\\phi(\\alpha)$"
   ]
  },
  {
   "cell_type": "code",
   "execution_count": 25,
   "id": "3f186966",
   "metadata": {
    "scrolled": true
   },
   "outputs": [
    {
     "data": {
      "text/plain": [
       "8101"
      ]
     },
     "execution_count": 25,
     "metadata": {},
     "output_type": "execute_result"
    }
   ],
   "source": [
    "commitment/g"
   ]
  },
  {
   "cell_type": "markdown",
   "id": "24ad812f",
   "metadata": {},
   "source": [
    "Now we just need a polynomial that passes through $(\\alpha, \\phi(\\alpha))$... Just to make it nice, let's compute it as a quadratic function"
   ]
  },
  {
   "cell_type": "code",
   "execution_count": 26,
   "id": "91eb13a9",
   "metadata": {},
   "outputs": [],
   "source": [
    "def make_faux_poly(F_p_X, alpha, phi_alpha, i, phi_i):\n",
    "    xs = [alpha, i]\n",
    "    ys = [phi_alpha, phi_i]\n",
    "\n",
    "    F_p = F_p_X.base_ring()\n",
    "\n",
    "    while (len(xs) != 3):\n",
    "        x = F_p.random_element()\n",
    "        if not (x in xs):\n",
    "            xs.append(x)\n",
    "            ys.append(F_p.random_element())\n",
    "    return F_p_X.lagrange_polynomial(zip(xs,ys))"
   ]
  },
  {
   "cell_type": "code",
   "execution_count": 27,
   "id": "28b4b5bf",
   "metadata": {
    "scrolled": true
   },
   "outputs": [
    {
     "data": {
      "text/plain": [
       "32674*x^2 + 7560*x + 9865"
      ]
     },
     "execution_count": 27,
     "metadata": {},
     "output_type": "execute_result"
    }
   ],
   "source": [
    "faux_poly = make_faux_poly(F_p_X, alpha, commitment/g, i, poly_eval)\n",
    "faux_poly"
   ]
  },
  {
   "cell_type": "markdown",
   "id": "74fbdf69",
   "metadata": {},
   "source": [
    "Let's run the protocol with this faux polynomial that generates an identical commitment"
   ]
  },
  {
   "cell_type": "code",
   "execution_count": 28,
   "id": "535862ac",
   "metadata": {
    "scrolled": true
   },
   "outputs": [
    {
     "name": "stdout",
     "output_type": "stream",
     "text": [
      "The evaluation of i on the faux polynomial is 10371\n",
      "The faux proof polynomial 32674*x + 11282\n",
      "The faux opening triplet is (1220, 10371, 27985)\n",
      "\n",
      "Did we deceive the system and verified the faux polynomial 32674*x^2 + 7560*x + 9865\n",
      "as if it was the true polynomial 20307*x^20 + 2518*x^19 + 1520*x^18 + 34792*x^17 + 29777*x^16 + 25961*x^15 + 34636*x^14 + 11875*x^13 + 13526*x^12 + 34297*x^11 + 29923*x^10 + 31332*x^9 + 6401*x^8 + 19111*x^7 + 20394*x^6 + 37056*x^5 + 6861*x^4 + 24873*x^3 + 11595*x^2 + 4072*x + 36814?\n",
      "\n",
      "True!!\n",
      "\n"
     ]
    }
   ],
   "source": [
    "faux_poly_eval = faux_poly(i)\n",
    "print(f\"The evaluation of i on the faux polynomial is {faux_poly_eval}\")\n",
    "\n",
    "faux_proof_poly = ((faux_poly - faux_poly_eval)/(x - i)).numerator()\n",
    "print(f\"The faux proof polynomial {faux_proof_poly}\")\n",
    "\n",
    "faux_opening_commit = exponent_evaluation(PP, proof_poly, g)\n",
    "opening_triplet = (i, faux_poly_eval, faux_opening_commit)\n",
    "print(f\"The faux opening triplet is {opening_triplet}\")\n",
    "\n",
    "faux_verification = e(commitment, g) == (e(faux_opening_commit, PP[1] - i*g) + (faux_poly_eval*e(g,g)))\n",
    "print(\n",
    "f\"\"\"\n",
    "Did we deceive the system and verified the faux polynomial {faux_poly}\n",
    "as if it was the true polynomial {msg_poly}?\\n\\n{faux_verification}!!\n",
    "\"\"\"\n",
    ")"
   ]
  },
  {
   "cell_type": "markdown",
   "id": "6edd0261",
   "metadata": {},
   "source": [
    "# 3. Closing remarks\n",
    "\n",
    "## 3.1 Recovering the message from the polynomial?\n",
    "\n",
    "Did you wonder how can we recover the original message from the polynomial?"
   ]
  },
  {
   "cell_type": "code",
   "execution_count": 29,
   "id": "8835944a",
   "metadata": {},
   "outputs": [],
   "source": [
    "def decode_poly(poly):\n",
    "    images = []\n",
    "    for i in range(1, poly.degree() + 2):\n",
    "        images.append(poly(i))\n",
    "\n",
    "    rs = RSCodec(10)\n",
    "    \n",
    "    return bytes(rs.decode(images)[0]).decode(\"utf-8\")"
   ]
  },
  {
   "cell_type": "code",
   "execution_count": 30,
   "id": "a66dec00",
   "metadata": {},
   "outputs": [
    {
     "data": {
      "text/plain": [
       "'Hello Zepp!'"
      ]
     },
     "execution_count": 30,
     "metadata": {},
     "output_type": "execute_result"
    }
   ],
   "source": [
    "decode_poly(msg_poly)"
   ]
  },
  {
   "cell_type": "markdown",
   "id": "4f948732",
   "metadata": {},
   "source": [
    "Ever wondered what our faux polynomial was encoding?"
   ]
  },
  {
   "cell_type": "code",
   "execution_count": 31,
   "id": "b458d728",
   "metadata": {},
   "outputs": [
    {
     "name": "stdout",
     "output_type": "stream",
     "text": [
      "Exception!\n",
      "Encoded data makes no sense as a reed-solomon encoding\n"
     ]
    }
   ],
   "source": [
    "try:\n",
    "    print(decode_poly(faux_poly))\n",
    "except:\n",
    "    print(\"Exception!\\nEncoded data makes no sense as a reed-solomon encoding\")"
   ]
  },
  {
   "cell_type": "markdown",
   "id": "a1fa64d4",
   "metadata": {},
   "source": [
    "## 3.2 Abstraction!\n",
    "\n",
    "Let's abstract all of this into a class"
   ]
  },
  {
   "cell_type": "code",
   "execution_count": 32,
   "id": "bab7a9e4",
   "metadata": {},
   "outputs": [],
   "source": [
    "from KZG import KZG"
   ]
  },
  {
   "cell_type": "markdown",
   "id": "ac221850",
   "metadata": {},
   "source": [
    "Cool! Let's do all of the previous work again"
   ]
  },
  {
   "cell_type": "code",
   "execution_count": 33,
   "id": "2601472e",
   "metadata": {
    "scrolled": true
   },
   "outputs": [
    {
     "data": {
      "text/plain": [
       "KZG commitment class with Finite Field of size 46679 whose generator is 17\n",
       "Toxic waste has NOT been deleted. Proceed with caution"
      ]
     },
     "execution_count": 33,
     "metadata": {},
     "output_type": "execute_result"
    }
   ],
   "source": [
    "# Initialize the helper class\n",
    "kzg = KZG(leak=True)\n",
    "kzg"
   ]
  },
  {
   "cell_type": "markdown",
   "id": "f7783762",
   "metadata": {},
   "source": [
    "Let's create the polynomial encoding our message `\"Hello Zepp\"` and commit it to the KZG proving scheme"
   ]
  },
  {
   "cell_type": "code",
   "execution_count": 34,
   "id": "06f38f86",
   "metadata": {},
   "outputs": [
    {
     "data": {
      "text/plain": [
       "44188"
      ]
     },
     "execution_count": 34,
     "metadata": {},
     "output_type": "execute_result"
    }
   ],
   "source": [
    "msg = message_as_coords(\"Hello Zepp!\")\n",
    "msg_poly_again = kzg.polynomial_ring()[0].lagrange_polynomial(msg)\n",
    "commitment_again = kzg.make_commitment(msg_poly_again)\n",
    "commitment_again"
   ]
  },
  {
   "cell_type": "markdown",
   "id": "7db8d9c6",
   "metadata": {},
   "source": [
    "Let's create now the opening triplet. We'll choose an arbitrary `i`"
   ]
  },
  {
   "cell_type": "code",
   "execution_count": 35,
   "id": "78a81e68",
   "metadata": {},
   "outputs": [
    {
     "data": {
      "text/plain": [
       "36723"
      ]
     },
     "execution_count": 35,
     "metadata": {},
     "output_type": "execute_result"
    }
   ],
   "source": [
    "i_again = kzg.F_p.random_element()\n",
    "i_again"
   ]
  },
  {
   "cell_type": "code",
   "execution_count": 36,
   "id": "69bb6c40",
   "metadata": {},
   "outputs": [
    {
     "data": {
      "text/plain": [
       "(36723, 24341, 33270)"
      ]
     },
     "execution_count": 36,
     "metadata": {},
     "output_type": "execute_result"
    }
   ],
   "source": [
    "opening_triplet_again = kzg.make_opening_triplet(i_again, msg_poly_again)\n",
    "opening_triplet_again"
   ]
  },
  {
   "cell_type": "markdown",
   "id": "845e3bfc",
   "metadata": {},
   "source": [
    "Let's verify it!"
   ]
  },
  {
   "cell_type": "code",
   "execution_count": 37,
   "id": "930f0055",
   "metadata": {
    "scrolled": true
   },
   "outputs": [
    {
     "data": {
      "text/plain": [
       "True"
      ]
     },
     "execution_count": 37,
     "metadata": {},
     "output_type": "execute_result"
    }
   ],
   "source": [
    "kzg.verify(commitment_again, opening_triplet_again)"
   ]
  },
  {
   "cell_type": "markdown",
   "id": "668ed424",
   "metadata": {},
   "source": [
    "Let's forge a proof again"
   ]
  },
  {
   "cell_type": "code",
   "execution_count": 38,
   "id": "3cecda42",
   "metadata": {},
   "outputs": [
    {
     "data": {
      "text/plain": [
       "1088*x^2 + 30264*x + 41025"
      ]
     },
     "execution_count": 38,
     "metadata": {},
     "output_type": "execute_result"
    }
   ],
   "source": [
    "faux_poly_again = make_faux_poly(\n",
    "    kzg.polynomial_ring()[0],\n",
    "    kzg.alpha,\n",
    "    commitment_again/kzg.g,\n",
    "    *opening_triplet_again[:2]\n",
    ")\n",
    "faux_poly_again"
   ]
  },
  {
   "cell_type": "code",
   "execution_count": 39,
   "id": "320c85db",
   "metadata": {
    "scrolled": true
   },
   "outputs": [
    {
     "data": {
      "text/plain": [
       "44188"
      ]
     },
     "execution_count": 39,
     "metadata": {},
     "output_type": "execute_result"
    }
   ],
   "source": [
    "faux_commitment_again = kzg.make_commitment(faux_poly_again)\n",
    "faux_commitment_again"
   ]
  },
  {
   "cell_type": "code",
   "execution_count": 40,
   "id": "a30043a5",
   "metadata": {},
   "outputs": [
    {
     "data": {
      "text/plain": [
       "(36723, 24341, 33270)"
      ]
     },
     "execution_count": 40,
     "metadata": {},
     "output_type": "execute_result"
    }
   ],
   "source": [
    "faux_opening_triplet = kzg.make_opening_triplet(i_again, faux_poly_again)\n",
    "faux_opening_triplet"
   ]
  },
  {
   "cell_type": "code",
   "execution_count": 41,
   "id": "7fe8d97d",
   "metadata": {},
   "outputs": [
    {
     "data": {
      "text/plain": [
       "True"
      ]
     },
     "execution_count": 41,
     "metadata": {},
     "output_type": "execute_result"
    }
   ],
   "source": [
    "kzg.verify(faux_commitment_again, faux_opening_triplet)"
   ]
  }
 ],
 "metadata": {
  "kernelspec": {
   "display_name": "SageMath 9.5",
   "language": "sage",
   "name": "sagemath"
  },
  "language_info": {
   "codemirror_mode": {
    "name": "ipython",
    "version": 3
   },
   "file_extension": ".py",
   "mimetype": "text/x-python",
   "name": "python",
   "nbconvert_exporter": "python",
   "pygments_lexer": "ipython3",
   "version": "3.10.12"
  }
 },
 "nbformat": 4,
 "nbformat_minor": 5
}
